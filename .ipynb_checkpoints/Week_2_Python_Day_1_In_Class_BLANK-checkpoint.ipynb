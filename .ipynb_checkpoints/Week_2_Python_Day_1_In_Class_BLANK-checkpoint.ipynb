{
 "cells": [
  {
   "cell_type": "markdown",
   "metadata": {},
   "source": [
    "# Week 2 - Monday Lesson (variable assignment, loops, lists)"
   ]
  },
  {
   "cell_type": "markdown",
   "metadata": {},
   "source": [
    "## Tasks Today:\n",
    "\n",
    "1) Int & Float assignments <br>\n",
    " &nbsp;&nbsp;&nbsp;&nbsp; a) Assigning int <br>\n",
    " &nbsp;&nbsp;&nbsp;&nbsp; b) Assigning float <br>\n",
    " &nbsp;&nbsp;&nbsp;&nbsp; c) Performing Calculations on ints and floats <br>\n",
    " &nbsp;&nbsp;&nbsp;&nbsp;&nbsp;&nbsp;&nbsp;&nbsp; - Addition <br>\n",
    " &nbsp;&nbsp;&nbsp;&nbsp;&nbsp;&nbsp;&nbsp;&nbsp; - Subtraction <br>\n",
    " &nbsp;&nbsp;&nbsp;&nbsp;&nbsp;&nbsp;&nbsp;&nbsp; - Multiplication <br>\n",
    " &nbsp;&nbsp;&nbsp;&nbsp;&nbsp;&nbsp;&nbsp;&nbsp; - Division <br>\n",
    " &nbsp;&nbsp;&nbsp;&nbsp;&nbsp;&nbsp;&nbsp;&nbsp; - Floor Division <br>\n",
    " &nbsp;&nbsp;&nbsp;&nbsp;&nbsp;&nbsp;&nbsp;&nbsp; - Modulo <br>\n",
    " &nbsp;&nbsp;&nbsp;&nbsp;&nbsp;&nbsp;&nbsp;&nbsp; - Exponential <br>\n",
    "2) String Input-Output <br>\n",
    " &nbsp;&nbsp;&nbsp;&nbsp; a) String Assignment <br>\n",
    " &nbsp;&nbsp;&nbsp;&nbsp; b) print() <br>\n",
    " &nbsp;&nbsp;&nbsp;&nbsp; c) String Concatenation <br>\n",
    " &nbsp;&nbsp;&nbsp;&nbsp; d) Type Conversion <br>\n",
    " &nbsp;&nbsp;&nbsp;&nbsp; e) input() <br>\n",
    " &nbsp;&nbsp;&nbsp;&nbsp; f) format() <br>\n",
    " &nbsp;&nbsp;&nbsp;&nbsp; g) Old Way (python 2) <br>\n",
    "3) <b>In-Class Exercise #1</b> <br>\n",
    "4) If Statements <br>\n",
    " &nbsp;&nbsp;&nbsp;&nbsp; a) 'is' keyword <br>\n",
    " &nbsp;&nbsp;&nbsp;&nbsp; b) 'in' keyword <br>\n",
    " &nbsp;&nbsp;&nbsp;&nbsp; c) 'not in' keyword <br>\n",
    "5) <b>In-Class Exercise #2</b> <br>\n",
    "6) Elif Statements <br>\n",
    "7) Else Statements <br>\n",
    "8) <b>In-Class Exercise #3</b> <br>\n",
    "9) For Loops <br>\n",
    " &nbsp;&nbsp;&nbsp;&nbsp; a) Using 'in' keyword <br>\n",
    " &nbsp;&nbsp;&nbsp;&nbsp; b) Continue Statement <br>\n",
    " &nbsp;&nbsp;&nbsp;&nbsp; c) Break Statement <br>\n",
    " &nbsp;&nbsp;&nbsp;&nbsp; d) Pass Statement <br>\n",
    " &nbsp;&nbsp;&nbsp;&nbsp; e) Double For Loops <br>\n",
    "10) While Loops <br>\n",
    " &nbsp;&nbsp;&nbsp;&nbsp; a) Looping 'While True' <br>\n",
    " &nbsp;&nbsp;&nbsp;&nbsp; b) While and For Loops Used Together <br>\n",
    "11) Built-In Functions <br>\n",
    " &nbsp;&nbsp;&nbsp;&nbsp; a) range() <br>\n",
    " &nbsp;&nbsp;&nbsp;&nbsp; b) len() <br>\n",
    " &nbsp;&nbsp;&nbsp;&nbsp; c) help() <br>\n",
    " &nbsp;&nbsp;&nbsp;&nbsp; d) isinstance() <br>\n",
    " &nbsp;&nbsp;&nbsp;&nbsp; e) abs() <br>\n",
    "12) Try and Except <br>\n",
    "13) Lists <br>\n",
    " &nbsp;&nbsp;&nbsp;&nbsp; a) Declaring Lists <br>\n",
    " &nbsp;&nbsp;&nbsp;&nbsp; b) Indexing a List <br>\n",
    " &nbsp;&nbsp;&nbsp;&nbsp; c) .append() <br>\n",
    " &nbsp;&nbsp;&nbsp;&nbsp; d) .insert() <br>\n",
    " &nbsp;&nbsp;&nbsp;&nbsp; e) .pop() <br>\n",
    " &nbsp;&nbsp;&nbsp;&nbsp; f) .remove() <br>\n",
    " &nbsp;&nbsp;&nbsp;&nbsp; g) del() <br>\n",
    " &nbsp;&nbsp;&nbsp;&nbsp; h) Concatenating Two Lists <br>\n",
    " &nbsp;&nbsp;&nbsp;&nbsp; i) Lists Within Lists <br>\n",
    " &nbsp;&nbsp;&nbsp;&nbsp; j) Looping Through Lists <br>"
   ]
  },
  {
   "cell_type": "markdown",
   "metadata": {},
   "source": [
    "### Int & Float Assignments"
   ]
  },
  {
   "cell_type": "markdown",
   "metadata": {},
   "source": [
    "##### Assigning int"
   ]
  },
  {
   "cell_type": "code",
   "execution_count": null,
   "metadata": {},
   "outputs": [],
   "source": [
    "my_number = 10\n",
    "\n",
    "print(my_number)\n",
    "type(my_number)"
   ]
  },
  {
   "cell_type": "markdown",
   "metadata": {},
   "source": [
    "##### Assinging float"
   ]
  },
  {
   "cell_type": "code",
   "execution_count": null,
   "metadata": {},
   "outputs": [],
   "source": [
    "my_float = 10.5\n",
    "\n",
    "print(my_float)\n",
    "type(my_float)\n",
    "\n",
    "whole_float = 11.0\n",
    "print(type(whole_float))"
   ]
  },
  {
   "cell_type": "markdown",
   "metadata": {},
   "source": [
    "#### Performing Calculations on ints and floats"
   ]
  },
  {
   "cell_type": "markdown",
   "metadata": {},
   "source": [
    "##### Addition"
   ]
  },
  {
   "cell_type": "code",
   "execution_count": 31,
   "metadata": {},
   "outputs": [
    {
     "name": "stdout",
     "output_type": "stream",
     "text": [
      "10\n",
      "15\n"
     ]
    },
    {
     "data": {
      "text/plain": [
       "21.5"
      ]
     },
     "execution_count": 31,
     "metadata": {},
     "output_type": "execute_result"
    }
   ],
   "source": [
    "print(5 + 5)\n",
    "\n",
    "print(my_number + 5)\n",
    "\n",
    "5.5 + 5.5\n",
    "\n",
    "whole_float + my_float\n",
    "\n"
   ]
  },
  {
   "cell_type": "code",
   "execution_count": 32,
   "metadata": {},
   "outputs": [
    {
     "name": "stdout",
     "output_type": "stream",
     "text": [
      "10\n",
      "15\n"
     ]
    }
   ],
   "source": [
    "print(my_number)\n",
    "\n",
    "# my_number = my_number + 5\n",
    "my_number += 5\n",
    "\n",
    "print(my_number)"
   ]
  },
  {
   "cell_type": "markdown",
   "metadata": {},
   "source": [
    "##### Subtraction"
   ]
  },
  {
   "cell_type": "code",
   "execution_count": 33,
   "metadata": {},
   "outputs": [
    {
     "name": "stdout",
     "output_type": "stream",
     "text": [
      "15\n",
      "5\n"
     ]
    }
   ],
   "source": [
    "my_number - 10\n",
    "\n",
    "print(my_number)\n",
    "\n",
    "my_number = my_number - 10\n",
    "\n",
    "print(my_number)"
   ]
  },
  {
   "cell_type": "code",
   "execution_count": 34,
   "metadata": {},
   "outputs": [
    {
     "name": "stdout",
     "output_type": "stream",
     "text": [
      "10.5\n",
      "5.0\n"
     ]
    }
   ],
   "source": [
    "15.5 - 10.5\n",
    "\n",
    "my_float - 5.5\n",
    "\n",
    "print(my_float)\n",
    "\n",
    "# my_float = my_float - 5.5\n",
    "my_float -= 5.5\n",
    "\n",
    "print(my_float)"
   ]
  },
  {
   "cell_type": "markdown",
   "metadata": {},
   "source": [
    "##### Multiplication"
   ]
  },
  {
   "cell_type": "code",
   "execution_count": 43,
   "metadata": {},
   "outputs": [
    {
     "name": "stdout",
     "output_type": "stream",
     "text": [
      "10\n",
      "10 50\n"
     ]
    }
   ],
   "source": [
    "10 * 10\n",
    "\n",
    "new_num = 10\n",
    "\n",
    "new_num * 5\n",
    "\n",
    "print(new_num)\n",
    "\n",
    "prod = new_num * 5\n",
    "\n",
    "print(new_num, prod)\n",
    "\n"
   ]
  },
  {
   "cell_type": "code",
   "execution_count": 48,
   "metadata": {},
   "outputs": [
    {
     "name": "stdout",
     "output_type": "stream",
     "text": [
      "25.0\n"
     ]
    }
   ],
   "source": [
    "print(my_float)\n",
    "\n",
    "my_float * new_num\n",
    "\n",
    "# my_float = my_float * 5\n",
    "\n",
    "my_float *= 4.5"
   ]
  },
  {
   "cell_type": "code",
   "execution_count": 49,
   "metadata": {},
   "outputs": [
    {
     "name": "stdout",
     "output_type": "stream",
     "text": [
      "112.5\n"
     ]
    }
   ],
   "source": [
    "print(my_float)"
   ]
  },
  {
   "cell_type": "markdown",
   "metadata": {},
   "source": [
    "##### Division"
   ]
  },
  {
   "cell_type": "code",
   "execution_count": 52,
   "metadata": {},
   "outputs": [
    {
     "name": "stdout",
     "output_type": "stream",
     "text": [
      "2.0\n",
      "2\n",
      "2.5\n",
      "5\n",
      "2.5\n"
     ]
    }
   ],
   "source": [
    "print(10 / 5)\n",
    "\n",
    "print(int(10 / 5))\n",
    "\n",
    "print(my_number / 2)\n",
    "\n",
    "print(my_number)\n",
    "\n",
    "# my_number = my_number / 2\n",
    "my_number /= 2\n",
    "print(my_number)"
   ]
  },
  {
   "cell_type": "markdown",
   "metadata": {},
   "source": [
    "##### Floor Division"
   ]
  },
  {
   "cell_type": "code",
   "execution_count": 56,
   "metadata": {},
   "outputs": [
    {
     "name": "stdout",
     "output_type": "stream",
     "text": [
      "2.5\n",
      "1.0\n"
     ]
    }
   ],
   "source": [
    "11 // 5\n",
    "10.5 // 5.5\n",
    "\n",
    "my_number // 2\n",
    "\n",
    "print(my_number)\n",
    "\n",
    "# my_number = my_number // 2\n",
    "my_number //= 2\n",
    "\n",
    "print(my_number)"
   ]
  },
  {
   "cell_type": "markdown",
   "metadata": {},
   "source": [
    "##### Modulo"
   ]
  },
  {
   "cell_type": "code",
   "execution_count": 58,
   "metadata": {},
   "outputs": [
    {
     "data": {
      "text/plain": [
       "1"
      ]
     },
     "execution_count": 58,
     "metadata": {},
     "output_type": "execute_result"
    }
   ],
   "source": [
    "11 % 5\n",
    "\n",
    "my_number = 10\n",
    "my_number % 3\n",
    "\n",
    "my_number = my_number % 3\n",
    "my_number %= 3\n",
    "\n",
    "print (my_number)"
   ]
  },
  {
   "cell_type": "markdown",
   "metadata": {},
   "source": []
  },
  {
   "cell_type": "code",
   "execution_count": 62,
   "metadata": {},
   "outputs": [
    {
     "name": "stdout",
     "output_type": "stream",
     "text": [
      "10\n"
     ]
    }
   ],
   "source": [
    "10 ** 2\n",
    "\n",
    "new_number = 10\n",
    "\n",
    "new_number ** 3\n",
    "\n",
    "print(new_number)\n",
    "\n",
    "# new_number = new_number ** 3\n",
    "new_number **= 3"
   ]
  },
  {
   "cell_type": "code",
   "execution_count": 63,
   "metadata": {},
   "outputs": [
    {
     "name": "stdout",
     "output_type": "stream",
     "text": [
      "1000\n"
     ]
    }
   ],
   "source": [
    "print(new_number)"
   ]
  },
  {
   "cell_type": "markdown",
   "metadata": {},
   "source": [
    "### String Input-Output"
   ]
  },
  {
   "cell_type": "markdown",
   "metadata": {},
   "source": [
    "##### String Assignment"
   ]
  },
  {
   "cell_type": "code",
   "execution_count": 65,
   "metadata": {},
   "outputs": [
    {
     "name": "stdout",
     "output_type": "stream",
     "text": [
      "hello world\n",
      "<class 'str'>\n"
     ]
    }
   ],
   "source": [
    "new_string = 'hello world'\n",
    "\n",
    "print(new_string)\n",
    "\n",
    "print(type(new_string))"
   ]
  },
  {
   "cell_type": "markdown",
   "metadata": {},
   "source": [
    "##### print() <br>\n",
    "<p>Don't forget about end=' '</p>"
   ]
  },
  {
   "cell_type": "code",
   "execution_count": 71,
   "metadata": {},
   "outputs": [
    {
     "name": "stdout",
     "output_type": "stream",
     "text": [
      "hello string matrix week-2\n",
      "on new line\n"
     ]
    }
   ],
   "source": [
    "#default = end=\"\\n\" ex: print('hello world, end='\\n')\n",
    "\n",
    "print('hello string', end=' ')\n",
    "\n",
    "print('matrix week-2')\n",
    "\n",
    "print('on new line')"
   ]
  },
  {
   "cell_type": "markdown",
   "metadata": {},
   "source": [
    "##### String Concatenation"
   ]
  },
  {
   "cell_type": "code",
   "execution_count": 78,
   "metadata": {},
   "outputs": [
    {
     "name": "stdout",
     "output_type": "stream",
     "text": [
      "hello world sean\n",
      "hello world\n"
     ]
    }
   ],
   "source": [
    "instructor = 'sean'\n",
    "\n",
    "print(new_string + ' ' + instructor)\n",
    "\n",
    "print(new_string)\n"
   ]
  },
  {
   "cell_type": "code",
   "execution_count": 79,
   "metadata": {},
   "outputs": [
    {
     "name": "stdout",
     "output_type": "stream",
     "text": [
      "hello world\n",
      "hello world python week\n"
     ]
    }
   ],
   "source": [
    "new_string + ' python week'\n",
    "\n",
    "print(new_string)\n",
    "\n",
    "# new_string = new_string + ' python week'\n",
    "new_string += ' python week'\n",
    "\n",
    "print(new_string)"
   ]
  },
  {
   "cell_type": "markdown",
   "metadata": {},
   "source": [
    "##### Type Conversion"
   ]
  },
  {
   "cell_type": "code",
   "execution_count": 85,
   "metadata": {},
   "outputs": [
    {
     "name": "stdout",
     "output_type": "stream",
     "text": [
      "10\n"
     ]
    }
   ],
   "source": [
    "type(int('105'))\n",
    "\n",
    "number_string = '10.5'\n",
    "\n",
    "print(number_string)\n",
    "\n",
    "number_string.isdigit()\n",
    "\n",
    "if number_string.isdigit():\n",
    "    int(number_string)\n",
    "else:\n",
    "    print(\"unable to convert\")"
   ]
  },
  {
   "cell_type": "markdown",
   "metadata": {},
   "source": [
    "##### input()"
   ]
  },
  {
   "cell_type": "code",
   "execution_count": null,
   "metadata": {},
   "outputs": [],
   "source": [
    "name = input(\"What is your name: \")\n",
    "\n",
    "# user_age = int(input(\"What is your age\"))\n",
    "\n",
    "# user_age += 1\n",
    "\n",
    "# print(user_age)"
   ]
  },
  {
   "cell_type": "markdown",
   "metadata": {},
   "source": [
    "##### format()"
   ]
  },
  {
   "cell_type": "code",
   "execution_count": null,
   "metadata": {},
   "outputs": [],
   "source": [
    "age = 33\n",
    "print('arg')\n",
    "\n",
    "print('hello {} {}'.format(name, age))"
   ]
  },
  {
   "cell_type": "code",
   "execution_count": null,
   "metadata": {},
   "outputs": [],
   "source": [
    "f'hello {name} you are {age} years old'"
   ]
  },
  {
   "cell_type": "markdown",
   "metadata": {},
   "source": [
    "##### Old Way (python 2)"
   ]
  },
  {
   "cell_type": "code",
   "execution_count": 100,
   "metadata": {},
   "outputs": [
    {
     "data": {
      "text/plain": [
       "'Hello dylan you are 33 years old'"
      ]
     },
     "execution_count": 100,
     "metadata": {},
     "output_type": "execute_result"
    }
   ],
   "source": [
    "'Hello %s you are %d years old' %(name, age)"
   ]
  },
  {
   "cell_type": "markdown",
   "metadata": {},
   "source": [
    "# In-Class Exercise 1 <br>\n",
    "<p>Create a format statement that asks for color, year, make, model and prints out the results</p>"
   ]
  },
  {
   "cell_type": "code",
   "execution_count": 2,
   "metadata": {},
   "outputs": [
    {
     "name": "stdout",
     "output_type": "stream",
     "text": [
      "What is the color of your car? sdf\n",
      "What is the year of your car? sdf\n",
      "What is the make of your car? sdf\n",
      "What is the model of your car? sdf\n"
     ]
    },
    {
     "data": {
      "text/plain": [
       "'color= sdf year= sdf make=sdf mode=sdf'"
      ]
     },
     "execution_count": 2,
     "metadata": {},
     "output_type": "execute_result"
    }
   ],
   "source": [
    "color = input(\"What is the color of your car? \")\n",
    "year = input(\"What is the year of your car? \")\n",
    "make = input(\"What is the make of your car? \")\n",
    "model = input(\"What is the model of your car? \")\n",
    "\n",
    "f'color= {color} year= {year} make={make} mode={model}'"
   ]
  },
  {
   "cell_type": "markdown",
   "metadata": {},
   "source": [
    "### If Statements"
   ]
  },
  {
   "cell_type": "code",
   "execution_count": 8,
   "metadata": {},
   "outputs": [
    {
     "name": "stdout",
     "output_type": "stream",
     "text": [
      "False\n",
      "11 > 10 True\n",
      "10 equal 10\n",
      "11 >= 11\n",
      "10 >= 9 and 11 == 11\n",
      "10 >= 9 or 11 != 11\n",
      "prevent error short circuit\n",
      "10 == 11 or 9 >= 9\n"
     ]
    }
   ],
   "source": [
    "# Available operators: Greater(>), Less(<),Equal(==)\n",
    "# Greater or Equal(>=), Less or Equal (<=)\n",
    "\n",
    "# Truth Tree:\n",
    "# T and F = F\n",
    "# T and T = T\n",
    "# T or F = T\n",
    "# F or T = T\n",
    "# F or F = F\n",
    "\n",
    "# syntax\n",
    "# if < boolean statement>:\n",
    "#    action\n",
    "\n",
    "print(10 > 11)\n",
    "if 10 > 11:\n",
    "    print('10 > 11 True')\n",
    "    \n",
    "if 11 >10:\n",
    "    print('11 > 10 True')\n",
    "    \n",
    "if 10 == 10:\n",
    "    print('10 equal 10')\n",
    "    \n",
    "if 10 != 10:\n",
    "    print('not equal')\n",
    "    \n",
    "if 11 >= 11:\n",
    "    print('11 >= 11')\n",
    "    \n",
    "if 10 >= 9 and 11 == 11:\n",
    "    print('10 >= 9 and 11 == 11')\n",
    "        \n",
    "if 10 >= 9 and 11 != 11:\n",
    "    print('10 >= 9 and 11 != 11')\n",
    "    \n",
    "if 10 >= 9 or 11 != 11:\n",
    "    print('10 >= 9 or 11 != 11')\n",
    "    \n",
    "if 10 == 10 or int('abc') > 11:\n",
    "    print('prevent error short circuit')\n",
    "\n",
    "if 10 == 11 or 9 >= 9:\n",
    "    print('10 == 11 or 9 >= 9')"
   ]
  },
  {
   "cell_type": "markdown",
   "metadata": {},
   "source": [
    "##### 'is' keyword"
   ]
  },
  {
   "cell_type": "code",
   "execution_count": 14,
   "metadata": {
    "scrolled": true
   },
   "outputs": [
    {
     "name": "stdout",
     "output_type": "stream",
     "text": [
      "{'foo': 'bar'}\n"
     ]
    },
    {
     "data": {
      "text/plain": [
       "True"
      ]
     },
     "execution_count": 14,
     "metadata": {},
     "output_type": "execute_result"
    }
   ],
   "source": [
    "#  bad practice use ==\n",
    "# print(11 is 11)\n",
    "\n",
    "dict1 = {'foo' : 'bar'}\n",
    "dict2 = {'foo' : 'bar'}\n",
    "\n",
    "dict3 = dict1\n",
    "\n",
    "print(dict3)\n",
    "\n",
    "dict1 is dict2\n",
    "dict3 is dict1"
   ]
  },
  {
   "cell_type": "markdown",
   "metadata": {},
   "source": [
    "##### 'in' keyword"
   ]
  },
  {
   "cell_type": "code",
   "execution_count": 17,
   "metadata": {},
   "outputs": [
    {
     "name": "stdout",
     "output_type": "stream",
     "text": [
      "fail\n"
     ]
    }
   ],
   "source": [
    "'c' in 'abc'\n",
    "\n",
    "'d' in 'abc'\n",
    "\n",
    "porter_grades = '5,5,5,5,5'\n",
    "\n",
    "if '0' in porter_grades:\n",
    "    print('fail')"
   ]
  },
  {
   "cell_type": "markdown",
   "metadata": {},
   "source": [
    "##### 'not in' keyword'"
   ]
  },
  {
   "cell_type": "code",
   "execution_count": 23,
   "metadata": {},
   "outputs": [
    {
     "name": "stdout",
     "output_type": "stream",
     "text": [
      "pass\n",
      "True\n",
      "False\n"
     ]
    }
   ],
   "source": [
    "if '0' not in porter_grades:\n",
    "    print('pass')\n",
    "    \n",
    "print('z' not in 'foo')\n",
    "print('b' not in 'bar')"
   ]
  },
  {
   "cell_type": "markdown",
   "metadata": {},
   "source": [
    "# In-Class Exercise 2 <br>\n",
    "<p>Ask user for input, check to see if the letter 'p' is in the input</p>"
   ]
  },
  {
   "cell_type": "code",
   "execution_count": 29,
   "metadata": {},
   "outputs": [
    {
     "name": "stdout",
     "output_type": "stream",
     "text": [
      "Write anything: \n",
      "p not located\n"
     ]
    }
   ],
   "source": [
    "user_input = input(\"Write anything: \")\n",
    "\n",
    "if 'p' not in user_input.lower():\n",
    "    print('p not located')\n",
    "    \n",
    "if 'p' in user_input.lower():\n",
    "    print('p located')"
   ]
  },
  {
   "cell_type": "markdown",
   "metadata": {},
   "source": [
    "## Using 'and'/'or' with If Statements"
   ]
  },
  {
   "cell_type": "code",
   "execution_count": 32,
   "metadata": {},
   "outputs": [
    {
     "name": "stdout",
     "output_type": "stream",
     "text": [
      "or statement\n"
     ]
    }
   ],
   "source": [
    "# see above\n",
    "\n",
    "if 'foo' in 'foobar' and'bar' in 'foo':\n",
    "    print('and statement')\n",
    "    \n",
    "if 'foo' in 'foobar' or'bar' in 'foo':\n",
    "    print('or statement')"
   ]
  },
  {
   "cell_type": "markdown",
   "metadata": {},
   "source": [
    "### Elif Statements"
   ]
  },
  {
   "cell_type": "code",
   "execution_count": 36,
   "metadata": {},
   "outputs": [
    {
     "name": "stdout",
     "output_type": "stream",
     "text": [
      "your lucky day\n"
     ]
    }
   ],
   "source": [
    "# if first condition is false, it moves onto elif statement, but if it is true, it stops and doesn't get to elif statement\n",
    "# if you want to check BOTH conditions, don't use a chain like this\n",
    "\n",
    "if 'dylan' == 'sean currie':\n",
    "    print(\"today's instructor is dylan\")\n",
    "elif 'sean currie' == 'sean currie':\n",
    "    print('your lucky day')"
   ]
  },
  {
   "cell_type": "code",
   "execution_count": 39,
   "metadata": {},
   "outputs": [
    {
     "name": "stdout",
     "output_type": "stream",
     "text": [
      "back to school\n"
     ]
    }
   ],
   "source": [
    "today = 'monday'\n",
    "\n",
    "if today == 'sunday':\n",
    "    print('enjoy your last day of weekend')\n",
    "elif today == 'monday':\n",
    "    print('back to school')\n",
    "elif today == 'monday':\n",
    "    print(\"this won't show because chain is broken from code above\")\n",
    "elif today == 'tuesday':\n",
    "    print('working through the week')\n",
    "elif today == 'wednesday':\n",
    "    print('hump day')\n"
   ]
  },
  {
   "cell_type": "markdown",
   "metadata": {},
   "source": [
    "### Else Statements"
   ]
  },
  {
   "cell_type": "code",
   "execution_count": 44,
   "metadata": {},
   "outputs": [
    {
     "name": "stdout",
     "output_type": "stream",
     "text": [
      "10 > 9 and 10 <11\n"
     ]
    }
   ],
   "source": [
    "if 9 < 10 < 11:\n",
    "    print('10 > 9 and 10 <11')"
   ]
  },
  {
   "cell_type": "code",
   "execution_count": 45,
   "metadata": {},
   "outputs": [
    {
     "name": "stdout",
     "output_type": "stream",
     "text": [
      "it's time for school\n"
     ]
    }
   ],
   "source": [
    "if 'saturday' == today == 'sunday':\n",
    "    print(\"It's the weekend\")\n",
    "else:\n",
    "    print(\"It's time for school\")"
   ]
  },
  {
   "cell_type": "code",
   "execution_count": 40,
   "metadata": {},
   "outputs": [
    {
     "name": "stdout",
     "output_type": "stream",
     "text": [
      "time for school\n"
     ]
    }
   ],
   "source": [
    "if today == 'saturday' or today == 'sunday':\n",
    "    print(\"It's the weekend\")\n",
    "    \n",
    "else:\n",
    "    print('time for school')"
   ]
  },
  {
   "cell_type": "code",
   "execution_count": 43,
   "metadata": {},
   "outputs": [
    {
     "name": "stdout",
     "output_type": "stream",
     "text": [
      "one letter\n"
     ]
    }
   ],
   "source": [
    "# Need to have two separate statements like above. The default is that if there is any character, it defaults to True\n",
    "# Without a character it defaults to false. So if you did today == 'saturday' or 'sunday':\n",
    "# It would default to True because 'sunday' has at least more than one character\n",
    "\n",
    "if '':\n",
    "    print('empty string')\n",
    "\n",
    "if 'a':\n",
    "    print('one letter')"
   ]
  },
  {
   "cell_type": "markdown",
   "metadata": {},
   "source": [
    "### For Loops"
   ]
  },
  {
   "cell_type": "code",
   "execution_count": 48,
   "metadata": {},
   "outputs": [
    {
     "name": "stdout",
     "output_type": "stream",
     "text": [
      "s\n",
      "line two\n",
      "e\n",
      "line two\n",
      "a\n",
      "line two\n",
      "n\n",
      "line two\n",
      " \n",
      "line two\n",
      "c\n",
      "line two\n",
      "u\n",
      "line two\n",
      "r\n",
      "line two\n",
      "r\n",
      "line two\n",
      "i\n",
      "line two\n",
      "e\n",
      "line two\n",
      "completed\n"
     ]
    }
   ],
   "source": [
    "instructor = 'sean currie'\n",
    "\n",
    "for letter in instructor:\n",
    "    print(letter)\n",
    "    print('line two')\n",
    "\n",
    "print('completed')"
   ]
  },
  {
   "cell_type": "code",
   "execution_count": 56,
   "metadata": {},
   "outputs": [
    {
     "name": "stdout",
     "output_type": "stream",
     "text": [
      "0\n",
      "5\n",
      "go to next number\n",
      "\n",
      "1\n",
      "6\n",
      "go to next number\n",
      "\n",
      "2\n",
      "7\n",
      "go to next number\n",
      "\n",
      "3\n",
      "8\n",
      "go to next number\n",
      "\n",
      "4\n",
      "9\n",
      "go to next number\n",
      "\n",
      "5\n",
      "10\n",
      "go to next number\n",
      "\n",
      "6\n",
      "11\n",
      "go to next number\n",
      "\n",
      "7\n",
      "12\n",
      "go to next number\n",
      "\n",
      "8\n",
      "13\n",
      "go to next number\n",
      "\n",
      "9\n",
      "14\n",
      "go to next number\n",
      "\n",
      "10\n",
      "15\n",
      "go to next number\n",
      "\n",
      "11\n",
      "16\n",
      "go to next number\n",
      "\n",
      "12\n",
      "17\n",
      "go to next number\n",
      "\n",
      "13\n",
      "18\n",
      "go to next number\n",
      "\n",
      "14\n",
      "19\n",
      "go to next number\n",
      "\n",
      "15\n",
      "20\n",
      "go to next number\n",
      "\n",
      "16\n",
      "21\n",
      "go to next number\n",
      "\n",
      "17\n",
      "22\n",
      "go to next number\n",
      "\n",
      "18\n",
      "23\n",
      "go to next number\n",
      "\n",
      "19\n",
      "24\n",
      "range loop complete\n"
     ]
    }
   ],
   "source": [
    "for num in range(20):\n",
    "    print(num)\n",
    "    num += 5\n",
    "    print(num)\n",
    "    if num - 5 != 19:\n",
    "        print('go to next number\\n')\n",
    "    \n",
    "print('range loop complete')"
   ]
  },
  {
   "cell_type": "code",
   "execution_count": 69,
   "metadata": {},
   "outputs": [
    {
     "name": "stdout",
     "output_type": "stream",
     "text": [
      "index= 0, element= s\n",
      "index= 1, element= e\n",
      "index= 2, element= a\n",
      "index= 3, element= n\n",
      "index= 4, element=  \n",
      "index= 5, element= c\n",
      "index= 6, element= u\n",
      "index= 7, element= r\n",
      "index= 8, element= r\n",
      "index= 9, element= i\n",
      "index= 10, element= e\n"
     ]
    },
    {
     "data": {
      "text/plain": [
       "'b'"
      ]
     },
     "execution_count": 69,
     "metadata": {},
     "output_type": "execute_result"
    }
   ],
   "source": [
    "# print(len(instructor))\n",
    "# print(range(len(instructor)))\n",
    "# print(list(range(11)))\n",
    "# print(instructor)\n",
    "\n",
    "for i in range(len(instructor)):\n",
    "    print(f'index= {i}, element= {instructor[i]}')\n",
    "    \n",
    "'foo bar' [4]"
   ]
  },
  {
   "cell_type": "markdown",
   "metadata": {},
   "source": [
    "##### Using 'in' keyword"
   ]
  },
  {
   "cell_type": "code",
   "execution_count": 37,
   "metadata": {},
   "outputs": [],
   "source": [
    "# see above"
   ]
  },
  {
   "cell_type": "markdown",
   "metadata": {},
   "source": [
    "##### Continue Statement"
   ]
  },
  {
   "cell_type": "code",
   "execution_count": 38,
   "metadata": {},
   "outputs": [],
   "source": [
    "# will continue to next iteration"
   ]
  },
  {
   "cell_type": "code",
   "execution_count": 72,
   "metadata": {},
   "outputs": [
    {
     "name": "stdout",
     "output_type": "stream",
     "text": [
      "0\n",
      "1\n",
      "2\n",
      "3\n",
      "4\n",
      "6\n",
      "7\n",
      "8\n",
      "9\n",
      "11\n",
      "12\n",
      "13\n",
      "14\n",
      "15\n",
      "16\n",
      "17\n",
      "18\n",
      "19\n"
     ]
    }
   ],
   "source": [
    "for num in range(20):\n",
    "    if num == 5 or num == 10:\n",
    "        continue\n",
    "    print(num)"
   ]
  },
  {
   "cell_type": "markdown",
   "metadata": {},
   "source": [
    "##### Break Statement"
   ]
  },
  {
   "cell_type": "code",
   "execution_count": 39,
   "metadata": {},
   "outputs": [],
   "source": [
    "# will break out of current loop"
   ]
  },
  {
   "cell_type": "code",
   "execution_count": 74,
   "metadata": {},
   "outputs": [
    {
     "name": "stdout",
     "output_type": "stream",
     "text": [
      "0\n",
      "1\n",
      "2\n",
      "3\n",
      "4\n",
      "out of loop\n"
     ]
    }
   ],
   "source": [
    "for num in range(20):\n",
    "    if num == 5:\n",
    "        break\n",
    "    print(num)\n",
    "    \n",
    "print('out of loop')"
   ]
  },
  {
   "cell_type": "markdown",
   "metadata": {},
   "source": [
    "##### Pass Statement"
   ]
  },
  {
   "cell_type": "code",
   "execution_count": 77,
   "metadata": {},
   "outputs": [
    {
     "name": "stdout",
     "output_type": "stream",
     "text": [
      "give me data: hi\n"
     ]
    }
   ],
   "source": [
    "# mostly used as a placeholder, and will continue on same iteration\n",
    "\n",
    "def get_user_data():\n",
    "    input('give me data: ')\n",
    "def handle_user_data():\n",
    "    pass\n",
    "\n",
    "get_user_data()"
   ]
  },
  {
   "cell_type": "code",
   "execution_count": 79,
   "metadata": {},
   "outputs": [
    {
     "name": "stdout",
     "output_type": "stream",
     "text": [
      "0\n",
      "1\n",
      "2\n",
      "3\n",
      "4\n",
      "5\n",
      "6\n",
      "7\n",
      "8\n",
      "9\n",
      "10\n",
      "11\n",
      "12\n",
      "13\n",
      "14\n",
      "15\n",
      "16\n",
      "17\n",
      "18\n",
      "19\n"
     ]
    }
   ],
   "source": [
    "for num in range(20):\n",
    "    if num == 5:\n",
    "        pass\n",
    "    print(num)"
   ]
  },
  {
   "cell_type": "markdown",
   "metadata": {},
   "source": [
    "##### Double For Loops"
   ]
  },
  {
   "cell_type": "code",
   "execution_count": 87,
   "metadata": {},
   "outputs": [
    {
     "name": "stdout",
     "output_type": "stream",
     "text": [
      "0 s\n",
      "0 e\n",
      "0 a\n",
      "0 n\n",
      "0  \n",
      "0 c\n",
      "0 u\n",
      "0 r\n",
      "0 r\n",
      "0 i\n",
      "0 e\n",
      "nested loop complete\n",
      "\n",
      "1 s\n",
      "1 e\n",
      "1 a\n",
      "1 n\n",
      "1  \n",
      "1 c\n",
      "1 u\n",
      "1 r\n",
      "1 r\n",
      "1 i\n",
      "1 e\n",
      "nested loop complete\n",
      "\n",
      "2 s\n",
      "2 e\n",
      "2 a\n",
      "2 n\n",
      "2  \n",
      "2 c\n",
      "2 u\n",
      "2 r\n",
      "2 r\n",
      "2 i\n",
      "2 e\n",
      "nested loop complete\n",
      "\n",
      "3 s\n",
      "3 e\n",
      "3 a\n",
      "3 n\n",
      "3  \n",
      "3 c\n",
      "3 u\n",
      "3 r\n",
      "3 r\n",
      "3 i\n",
      "3 e\n",
      "nested loop complete\n",
      "\n",
      "4 s\n",
      "4 e\n",
      "4 a\n",
      "4 n\n",
      "4  \n",
      "4 c\n",
      "4 u\n",
      "4 r\n",
      "4 r\n",
      "4 i\n",
      "4 e\n",
      "nested loop complete\n",
      "\n",
      "60\n"
     ]
    }
   ],
   "source": [
    "step = 0\n",
    "for num in range(5):\n",
    "    step += 1\n",
    "    for letter in 'sean currie':\n",
    "        print(num, letter)\n",
    "        step += 1\n",
    "    print('nested loop complete\\n')\n",
    "        \n",
    "print(step)"
   ]
  },
  {
   "cell_type": "code",
   "execution_count": 91,
   "metadata": {},
   "outputs": [
    {
     "name": "stdout",
     "output_type": "stream",
     "text": [
      "a\n",
      "a\n"
     ]
    }
   ],
   "source": [
    "# print any duplicate letters\n",
    "\n",
    "our_string =\"matrixa\"\n",
    "\n",
    "for i,letter in enumerate(our_string):\n",
    "    for y,letter2 in enumerate(our_string):\n",
    "        if i != y and letter == letter2:\n",
    "            print(letter)\n",
    "            break"
   ]
  },
  {
   "cell_type": "code",
   "execution_count": 92,
   "metadata": {},
   "outputs": [
    {
     "data": {
      "text/plain": [
       "[(0, 'm'), (1, 'a'), (2, 't'), (3, 'r'), (4, 'i'), (5, 'x'), (6, 'a')]"
      ]
     },
     "execution_count": 92,
     "metadata": {},
     "output_type": "execute_result"
    }
   ],
   "source": [
    "list(enumerate('matrixa'))"
   ]
  },
  {
   "cell_type": "markdown",
   "metadata": {},
   "source": [
    "### While Loops"
   ]
  },
  {
   "cell_type": "code",
   "execution_count": 96,
   "metadata": {},
   "outputs": [
    {
     "name": "stdout",
     "output_type": "stream",
     "text": [
      "0\n",
      "1\n",
      "2\n",
      "3\n",
      "4\n",
      "5\n",
      "6\n",
      "7\n",
      "8\n",
      "9\n",
      "10\n",
      "11\n",
      "12\n",
      "13\n",
      "14\n",
      "15\n",
      "16\n",
      "17\n",
      "18\n",
      "19\n",
      "complete\n",
      "Are you ready to play: [y/n]: y\n",
      "having tons of fun\n",
      "Are you still playing: [y/n]: y\n",
      "having tons of fun\n",
      "Are you still playing: [y/n]: n\n"
     ]
    }
   ],
   "source": [
    "# while <condition>:\n",
    "#    <code block>\n",
    "\n",
    "num = 0\n",
    "while num < 20:\n",
    "    print(num)\n",
    "    num += 1\n",
    "    \n",
    "print('complete')\n",
    "\n",
    "playing = input('Are you ready to play: [y/n]: ')\n",
    "# if playing == 'y':\n",
    "#     playing = True\n",
    "    \n",
    "while playing == 'y':\n",
    "    print('having tons of fun')\n",
    "    playing = input('Are you still playing: [y/n]: ')"
   ]
  },
  {
   "cell_type": "markdown",
   "metadata": {},
   "source": [
    "##### Looping 'While True'"
   ]
  },
  {
   "cell_type": "code",
   "execution_count": null,
   "metadata": {},
   "outputs": [],
   "source": [
    "while True:\n",
    "    playing = input('Are you still playing: [y/n]: ')\n",
    "    \n",
    "    if playing == 'n':\n",
    "        break"
   ]
  },
  {
   "cell_type": "markdown",
   "metadata": {},
   "source": [
    "##### While & For Loops Used Together"
   ]
  },
  {
   "cell_type": "code",
   "execution_count": 100,
   "metadata": {},
   "outputs": [
    {
     "name": "stdout",
     "output_type": "stream",
     "text": [
      "num = 0, letter = 's'\n",
      "num = 0, letter = 'e'\n",
      "num = 0, letter = 'a'\n",
      "num = 0, letter = 'n'\n",
      "num = 0, letter = ' '\n",
      "num = 0, letter = 'c'\n",
      "num = 0, letter = 'u'\n",
      "num = 0, letter = 'r'\n",
      "num = 0, letter = 'r'\n",
      "num = 0, letter = 'i'\n",
      "num = 0, letter = 'e'\n",
      "nested loop complete\n",
      "\n",
      "num = 1, letter = 's'\n",
      "num = 1, letter = 'e'\n",
      "num = 1, letter = 'a'\n",
      "num = 1, letter = 'n'\n",
      "num = 1, letter = ' '\n",
      "num = 1, letter = 'c'\n",
      "num = 1, letter = 'u'\n",
      "num = 1, letter = 'r'\n",
      "num = 1, letter = 'r'\n",
      "num = 1, letter = 'i'\n",
      "num = 1, letter = 'e'\n",
      "nested loop complete\n",
      "\n",
      "num = 2, letter = 's'\n",
      "num = 2, letter = 'e'\n",
      "num = 2, letter = 'a'\n",
      "num = 2, letter = 'n'\n",
      "num = 2, letter = ' '\n",
      "num = 2, letter = 'c'\n",
      "num = 2, letter = 'u'\n",
      "num = 2, letter = 'r'\n",
      "num = 2, letter = 'r'\n",
      "num = 2, letter = 'i'\n",
      "num = 2, letter = 'e'\n",
      "nested loop complete\n",
      "\n",
      "num = 3, letter = 's'\n",
      "num = 3, letter = 'e'\n",
      "num = 3, letter = 'a'\n",
      "num = 3, letter = 'n'\n",
      "num = 3, letter = ' '\n",
      "num = 3, letter = 'c'\n",
      "num = 3, letter = 'u'\n",
      "num = 3, letter = 'r'\n",
      "num = 3, letter = 'r'\n",
      "num = 3, letter = 'i'\n",
      "num = 3, letter = 'e'\n",
      "nested loop complete\n",
      "\n",
      "num = 4, letter = 's'\n",
      "num = 4, letter = 'e'\n",
      "num = 4, letter = 'a'\n",
      "num = 4, letter = 'n'\n",
      "num = 4, letter = ' '\n",
      "num = 4, letter = 'c'\n",
      "num = 4, letter = 'u'\n",
      "num = 4, letter = 'r'\n",
      "num = 4, letter = 'r'\n",
      "num = 4, letter = 'i'\n",
      "num = 4, letter = 'e'\n",
      "nested loop complete\n",
      "\n"
     ]
    }
   ],
   "source": [
    "num = 0\n",
    "\n",
    "while num < 5:\n",
    "    for letter in instructor:\n",
    "        print(f'{num = }, {letter = }')\n",
    "    num += 1\n",
    "    print('nested loop complete\\n')"
   ]
  },
  {
   "cell_type": "markdown",
   "metadata": {},
   "source": [
    "### Built-In Functions"
   ]
  },
  {
   "cell_type": "markdown",
   "metadata": {},
   "source": [
    "##### range()"
   ]
  },
  {
   "cell_type": "code",
   "execution_count": 52,
   "metadata": {},
   "outputs": [
    {
     "data": {
      "text/plain": [
       "[1, 3, 5, 7, 9, 11, 13, 15, 17, 19]"
      ]
     },
     "execution_count": 52,
     "metadata": {},
     "output_type": "execute_result"
    }
   ],
   "source": [
    "list(range(20))\n",
    "\n",
    "# syntax range(start=0, stop, step=1)\n",
    "\n",
    "list(range(1, 21, 2))"
   ]
  },
  {
   "cell_type": "markdown",
   "metadata": {},
   "source": [
    "##### len()"
   ]
  },
  {
   "cell_type": "code",
   "execution_count": 101,
   "metadata": {},
   "outputs": [
    {
     "data": {
      "text/plain": [
       "5"
      ]
     },
     "execution_count": 101,
     "metadata": {},
     "output_type": "execute_result"
    }
   ],
   "source": [
    "len('dylan')"
   ]
  },
  {
   "cell_type": "markdown",
   "metadata": {},
   "source": [
    "##### help()"
   ]
  },
  {
   "cell_type": "code",
   "execution_count": 102,
   "metadata": {},
   "outputs": [
    {
     "name": "stdout",
     "output_type": "stream",
     "text": [
      "Help on built-in function len in module builtins:\n",
      "\n",
      "len(obj, /)\n",
      "    Return the number of items in a container.\n",
      "\n"
     ]
    }
   ],
   "source": [
    "help(len)"
   ]
  },
  {
   "cell_type": "markdown",
   "metadata": {},
   "source": [
    "##### isinstance()"
   ]
  },
  {
   "cell_type": "code",
   "execution_count": 109,
   "metadata": {},
   "outputs": [
    {
     "name": "stdout",
     "output_type": "stream",
     "text": [
      "Help on built-in function isinstance in module builtins:\n",
      "\n",
      "isinstance(obj, class_or_tuple, /)\n",
      "    Return whether an object is an instance of a class or of a subclass thereof.\n",
      "    \n",
      "    A tuple, as in ``isinstance(x, (A, B, ...))``, may be given as the target to\n",
      "    check against. This is equivalent to ``isinstance(x, A) or isinstance(x, B)\n",
      "    or ...`` etc.\n",
      "\n",
      "34\n"
     ]
    }
   ],
   "source": [
    "help(isinstance)\n",
    "\n",
    "isinstance('1', (str,int))\n",
    "\n",
    "isinstance('1',int)\n",
    "\n",
    "isinstance('abc',str)\n",
    "\n",
    "age = 33\n",
    "\n",
    "if isinstance(age,int):\n",
    "    print(age + 1)"
   ]
  },
  {
   "cell_type": "markdown",
   "metadata": {},
   "source": [
    "##### abs()"
   ]
  },
  {
   "cell_type": "code",
   "execution_count": 111,
   "metadata": {},
   "outputs": [
    {
     "data": {
      "text/plain": [
       "True"
      ]
     },
     "execution_count": 111,
     "metadata": {},
     "output_type": "execute_result"
    }
   ],
   "source": [
    "abs(-5) == 5 == abs(5)\n"
   ]
  },
  {
   "cell_type": "markdown",
   "metadata": {},
   "source": [
    "### Try and Except"
   ]
  },
  {
   "cell_type": "code",
   "execution_count": null,
   "metadata": {},
   "outputs": [],
   "source": [
    "age = in(input())"
   ]
  },
  {
   "cell_type": "code",
   "execution_count": 1,
   "metadata": {},
   "outputs": [
    {
     "name": "stdout",
     "output_type": "stream",
     "text": [
      "Enter your age: 10\n"
     ]
    }
   ],
   "source": [
    "while True:\n",
    "\n",
    "    age = input('Enter your age: ')\n",
    "\n",
    "    try:\n",
    "        age = int(age)\n",
    "        break\n",
    "    except:\n",
    "        print('please enter age in digits ex: 33')\n",
    "        \n",
    "age = int(age)"
   ]
  },
  {
   "cell_type": "markdown",
   "metadata": {},
   "source": [
    "### Lists"
   ]
  },
  {
   "cell_type": "markdown",
   "metadata": {},
   "source": [
    "##### Declaring Lists"
   ]
  },
  {
   "cell_type": "code",
   "execution_count": 2,
   "metadata": {},
   "outputs": [
    {
     "name": "stdout",
     "output_type": "stream",
     "text": [
      "0\n"
     ]
    }
   ],
   "source": [
    "first_list = []\n",
    "\n",
    "second_list = list()\n",
    "\n",
    "\n",
    "type(first_list)\n",
    "\n",
    "isinstance(second_list, list)\n",
    "\n",
    "print(len(first_list))\n",
    "\n",
    "if []:\n",
    "    print('empty list falsey')\n",
    "elif [0]:\n",
    "    print('list with any elements is truthy')"
   ]
  },
  {
   "cell_type": "code",
   "execution_count": 4,
   "metadata": {},
   "outputs": [],
   "source": [
    "# integers, floats, booleans, strings, and lists can all be put inside a list\n",
    "random_list = [1, 3.14, False, 'astring', [1, 2, 3, 'false']]"
   ]
  },
  {
   "cell_type": "markdown",
   "metadata": {},
   "source": [
    "##### Indexing a List"
   ]
  },
  {
   "cell_type": "code",
   "execution_count": 12,
   "metadata": {},
   "outputs": [
    {
     "data": {
      "text/plain": [
       "5"
      ]
     },
     "execution_count": 12,
     "metadata": {},
     "output_type": "execute_result"
    }
   ],
   "source": [
    "random_list[0]\n",
    "random_list[2]\n",
    "# how to grab from a list nested in a list\n",
    "random_list[4][3]\n",
    "# -1 gives you last item in a list. negative number goes from the end towards the front\n",
    "random_list[-1][-1]\n",
    "# you can index in a list that wasn't defined, but you put it next to each other\n",
    "[3,5,6,7][1]"
   ]
  },
  {
   "cell_type": "code",
   "execution_count": 22,
   "metadata": {},
   "outputs": [
    {
     "name": "stdout",
     "output_type": "stream",
     "text": [
      "first_list = ['new first element', 'first element', 'second element']\n",
      "last_element = 'second element'\n"
     ]
    }
   ],
   "source": [
    "first_list\n",
    "last_element = first_list[-1]\n",
    "print(f'{first_list = }\\n{last_element = }')"
   ]
  },
  {
   "cell_type": "markdown",
   "metadata": {},
   "source": [
    "##### .append()"
   ]
  },
  {
   "cell_type": "code",
   "execution_count": 14,
   "metadata": {},
   "outputs": [
    {
     "name": "stdout",
     "output_type": "stream",
     "text": [
      "[]\n"
     ]
    }
   ],
   "source": [
    "# adds an element to our list and ALWAYS at the END of our list\n",
    "print(first_list)\n",
    "first_list.append('first element')"
   ]
  },
  {
   "cell_type": "code",
   "execution_count": 16,
   "metadata": {},
   "outputs": [
    {
     "name": "stdout",
     "output_type": "stream",
     "text": [
      "['first element', 'second element']\n"
     ]
    }
   ],
   "source": [
    "first_list.append('second element')\n",
    "print(first_list)"
   ]
  },
  {
   "cell_type": "markdown",
   "metadata": {},
   "source": [
    "##### .insert()"
   ]
  },
  {
   "cell_type": "code",
   "execution_count": 17,
   "metadata": {},
   "outputs": [
    {
     "name": "stdout",
     "output_type": "stream",
     "text": [
      "['new first element', 'first element', 'second element']\n"
     ]
    }
   ],
   "source": [
    "# insert adds an element at a specified index (which index, element)\n",
    "# syntax: <alist>.insert(<position>,<element>)\n",
    "first_list.insert(0, 'new first element')\n",
    "print(first_list)"
   ]
  },
  {
   "cell_type": "markdown",
   "metadata": {},
   "source": [
    "##### .pop()"
   ]
  },
  {
   "cell_type": "code",
   "execution_count": 19,
   "metadata": {},
   "outputs": [
    {
     "name": "stdout",
     "output_type": "stream",
     "text": [
      "[1, 3.14, False, 'astring', [1, 2, 3, 'false']]\n",
      "[1, False, 'astring', [1, 2, 3, 'false']]\n"
     ]
    }
   ],
   "source": [
    "# removes by the index\n",
    "print(random_list)\n",
    "random_list.pop(1)\n",
    "print(random_list)"
   ]
  },
  {
   "cell_type": "code",
   "execution_count": 20,
   "metadata": {},
   "outputs": [
    {
     "name": "stdout",
     "output_type": "stream",
     "text": [
      "[1, False, 'astring']\n"
     ]
    }
   ],
   "source": [
    "# default argument is -1 so if you don't specify it removes the end of list first\n",
    "random_list.pop()\n",
    "print(random_list)"
   ]
  },
  {
   "cell_type": "code",
   "execution_count": 21,
   "metadata": {},
   "outputs": [
    {
     "name": "stdout",
     "output_type": "stream",
     "text": [
      "random_list = [False, 'astring']\n",
      "removed_element = 1\n"
     ]
    }
   ],
   "source": [
    "# pop can also remove an element and store it in another variable\n",
    "removed_element = random_list.pop(0)\n",
    "print(f'{random_list = }\\n{removed_element = }')"
   ]
  },
  {
   "cell_type": "markdown",
   "metadata": {},
   "source": [
    "##### .remove()"
   ]
  },
  {
   "cell_type": "code",
   "execution_count": 24,
   "metadata": {},
   "outputs": [
    {
     "name": "stdout",
     "output_type": "stream",
     "text": [
      "[False]\n"
     ]
    }
   ],
   "source": [
    "# removes by the element\n",
    "random_list.remove('astring')\n",
    "print(random_list)"
   ]
  },
  {
   "cell_type": "code",
   "execution_count": null,
   "metadata": {},
   "outputs": [],
   "source": []
  },
  {
   "cell_type": "markdown",
   "metadata": {},
   "source": [
    "##### del()"
   ]
  },
  {
   "cell_type": "code",
   "execution_count": 27,
   "metadata": {},
   "outputs": [
    {
     "name": "stdout",
     "output_type": "stream",
     "text": [
      "['new first element', 'first element', 'second element']\n",
      "['new first element', 'second element']\n"
     ]
    }
   ],
   "source": [
    "# deletes by the position\n",
    "# syntax: del(<alist>[index])\n",
    "# other syntax: del <alist>[index]\n",
    "\n",
    "print(first_list)\n",
    "del(first_list[1])\n",
    "print(first_list)"
   ]
  },
  {
   "cell_type": "markdown",
   "metadata": {},
   "source": [
    "##### Concatenating Two Lists"
   ]
  },
  {
   "cell_type": "code",
   "execution_count": 34,
   "metadata": {},
   "outputs": [
    {
     "name": "stdout",
     "output_type": "stream",
     "text": [
      "['new first element', 'second element', 1, 2, 3, 4, 5, 1, 2, 3, 4, 5]\n",
      "[1, 2, 3, 4, 5]\n",
      "[1, 2, 3, 4, 5, 'new first element', 'second element', 1, 2, 3, 4, 5, 1, 2, 3, 4, 5]\n",
      "['new first element', 'second element', 1, 2, 3, 4, 5, 1, 2, 3, 4, 5, 1, 2, 3, 4, 5]\n"
     ]
    },
    {
     "data": {
      "text/plain": [
       "[1, 23, 3, 'foo', 'bar']"
      ]
     },
     "execution_count": 34,
     "metadata": {},
     "output_type": "execute_result"
    }
   ],
   "source": [
    "random_list = [1,2,3,4,5]\n",
    "print(first_list)\n",
    "\n",
    "print(random_list)\n",
    "print(random_list + first_list)\n",
    "\n",
    "# first_list = first_list + random_list\n",
    "first_list += random_list\n",
    "\n",
    "print(first_list)\n",
    "\n",
    "[1,23,3] + ['foo', 'bar']"
   ]
  },
  {
   "cell_type": "markdown",
   "metadata": {},
   "source": [
    "##### Lists Within Lists"
   ]
  },
  {
   "cell_type": "code",
   "execution_count": 38,
   "metadata": {},
   "outputs": [
    {
     "name": "stdout",
     "output_type": "stream",
     "text": [
      "['sean', 25, 'Chicago', ['tesla', 'x', 'red', 'hot']]\n"
     ]
    }
   ],
   "source": [
    "seans_info = ['sean', 25, 'Chicago', ['tesla', 'x', 'red']]\n",
    "\n",
    "seans_info[0]\n",
    "\n",
    "\n",
    "# seans_info[-1] is a list (within the main list) and we appended 'hot' to it\n",
    "seans_info[-1].append('hot')\n",
    "\n",
    "print(seans_info)"
   ]
  },
  {
   "cell_type": "markdown",
   "metadata": {},
   "source": [
    "##### Looping Through Lists"
   ]
  },
  {
   "cell_type": "code",
   "execution_count": 39,
   "metadata": {},
   "outputs": [
    {
     "name": "stdout",
     "output_type": "stream",
     "text": [
      "sean\n",
      "25\n",
      "Chicago\n",
      "['tesla', 'x', 'red', 'hot']\n"
     ]
    }
   ],
   "source": [
    "for e in seans_info:\n",
    "    print(e)"
   ]
  },
  {
   "cell_type": "code",
   "execution_count": 41,
   "metadata": {},
   "outputs": [
    {
     "name": "stdout",
     "output_type": "stream",
     "text": [
      "0 sean\n",
      "1 25\n",
      "2 Chicago\n",
      "3 ['tesla', 'x', 'red', 'hot']\n"
     ]
    }
   ],
   "source": [
    "# range(len) gives us the whole list\n",
    "for i in range(len(seans_info)):\n",
    "    print(i, seans_info[i])"
   ]
  },
  {
   "cell_type": "code",
   "execution_count": 43,
   "metadata": {},
   "outputs": [
    {
     "name": "stdout",
     "output_type": "stream",
     "text": [
      "0 sean\n",
      "1 25\n",
      "2 Chicago\n",
      "3 ['tesla', 'x', 'red', 'hot']\n"
     ]
    }
   ],
   "source": [
    "# gives the position and element associated with that position. Kind of like range(len).\n",
    "# the list was added so we can visually see it\n",
    "list(enumerate(seans_info))\n",
    "\n",
    "for i,e in enumerate(seans_info):\n",
    "    print(i, e)"
   ]
  },
  {
   "cell_type": "markdown",
   "metadata": {},
   "source": [
    "## Exercise #1 <br>\n",
    "<p>Cube Number Test... Print out all cubed numbers up to the total value 1000. Meaning that if the cubed number is over 1000 break the loop.</p>"
   ]
  },
  {
   "cell_type": "code",
   "execution_count": 14,
   "metadata": {},
   "outputs": [
    {
     "name": "stdout",
     "output_type": "stream",
     "text": [
      "0\n",
      "1\n",
      "8\n",
      "27\n",
      "64\n",
      "125\n",
      "216\n",
      "343\n",
      "512\n",
      "729\n",
      "1000\n",
      "No more acceptable numbers\n"
     ]
    }
   ],
   "source": [
    "i = 0\n",
    "\n",
    "while i**3 <= 1000:\n",
    "    if i**3 <= 1000:\n",
    "        print(i**3)\n",
    "        i += 1\n",
    "    if i**3 > 1000:\n",
    "        print('No more acceptable numbers')"
   ]
  },
  {
   "cell_type": "markdown",
   "metadata": {},
   "source": [
    "## Exercise #2 <br>\n",
    "<p>Get first prime numbers up to 100</p>"
   ]
  },
  {
   "cell_type": "code",
   "execution_count": 11,
   "metadata": {},
   "outputs": [
    {
     "name": "stdout",
     "output_type": "stream",
     "text": [
      "[2, 3, 5, 7, 11, 13, 17, 19, 23, 29, 31, 37, 41, 43, 47, 53, 59, 61, 67, 71, 73, 79, 83, 89, 97]\n"
     ]
    }
   ],
   "source": [
    "# HINT::\n",
    "# An else after an if runs if the if didn’t\n",
    "# An else after a for runs if the for didn’t break\n",
    "\n",
    "# 0 and 1 are not prime numbers\n",
    "# range should start 2, 101 so that is includes 100 as well\n",
    "\n",
    "def prime_number(n):\n",
    "    if n <=1:\n",
    "        return False\n",
    "\n",
    "    for i in range(2, n):\n",
    "        if n % i == 0:\n",
    "            return False\n",
    "        \n",
    "    return True\n",
    "\n",
    "prime_container = []\n",
    "    \n",
    "for num in range(2, 101):\n",
    "    if prime_number(num) == True:\n",
    "        prime_container.append(num)\n",
    "        \n",
    "print(prime_container)\n",
    "\n"
   ]
  },
  {
   "cell_type": "code",
   "execution_count": 45,
   "metadata": {},
   "outputs": [
    {
     "name": "stdout",
     "output_type": "stream",
     "text": [
      "[2, 3, 5, 7, 11, 13, 17, 19, 23, 29, 31, 37, 41, 43, 47, 53, 59, 61, 67, 71, 73, 79, 83, 89, 97]\n"
     ]
    }
   ],
   "source": [
    "# Dylan Version\n",
    "# range is 1-100 which means 1-99. We are moving every 2 which skips evens because we know even can't be prime\n",
    "# also set prime_numbers list\n",
    "prime_numbers = [2]\n",
    "for num in range(3,100,2):\n",
    "    prime = True\n",
    "#     only up to num not num+1 because the test checks if they are evenly divisble. you want to see if they're\n",
    "# divisible by any number below the number itself\n",
    "    for divisor in range(2, num):\n",
    "        if num % divisor == 0:\n",
    "            prime = False\n",
    "            break\n",
    "    if prime == True:\n",
    "        prime_numbers.append(num)\n",
    "    \n",
    "print(prime_numbers)"
   ]
  },
  {
   "cell_type": "markdown",
   "metadata": {},
   "source": [
    "# Exercise 3 <br>\n",
    "<p>Take in a users input for their age, if they are younger than 18 print kids, if they're 18 to 65 print adults, else print seniors</p>"
   ]
  },
  {
   "cell_type": "code",
   "execution_count": 34,
   "metadata": {},
   "outputs": [
    {
     "name": "stdout",
     "output_type": "stream",
     "text": [
      "Please enter your age: 65\n",
      "adults\n"
     ]
    }
   ],
   "source": [
    "user_age = input('Please enter your age: ')\n",
    "\n",
    "if int(user_age) < 18:\n",
    "    print('kids')\n",
    "    \n",
    "elif int(user_age) > 65:\n",
    "    print('seniors')\n",
    "    \n",
    "else:\n",
    "    print('adults')\n"
   ]
  },
  {
   "cell_type": "markdown",
   "metadata": {},
   "source": [
    "Monster Battler EC"
   ]
  },
  {
   "cell_type": "code",
   "execution_count": 15,
   "metadata": {},
   "outputs": [
    {
     "name": "stdout",
     "output_type": "stream",
     "text": [
      "Enter an attack value: 30\n",
      "You attack the monster for 30 damage.\n",
      "The monster attacks you for 3 damage.\n",
      "You have 47 HP remaining!\n",
      "Would you like to attack again or flee: [a/f] a\n",
      "Enter an attack value: 30\n",
      "You attack the monster for 30 damage.\n",
      "The monster attacks you for 0 damage.\n",
      "You have 47 HP remaining!\n",
      "Would you like to attack again or flee: [a/f] a\n",
      "Enter an attack value: 30\n",
      "You attack the monster for 30 damage.\n",
      "The monster attacks you for 30 damage.\n",
      "You have 17 HP remaining!\n",
      "Would you like to attack again or flee: [a/f] a\n",
      "Enter an attack value: 30\n",
      "You attack the monster for 30 damage.\n",
      "The monster attacks you for 27 damage.\n",
      "You have -10 HP remaining!\n",
      "The monster consumes you!\n",
      "Game Over\n"
     ]
    }
   ],
   "source": [
    "import random\n",
    "\n",
    "player_health = 50\n",
    "monster_health = 500\n",
    "run = 'a'\n",
    "\n",
    "while player_health > 0 and monster_health > 0 and run == 'a':\n",
    "    player_attack = int(input(\"Enter an attack value: \"))\n",
    "    monster_health -= player_attack\n",
    "    print(f'You attack the monster for {player_attack} damage.')\n",
    "\n",
    "    if monster_health <= 0:\n",
    "        print('Congratulations! The monster has been defeated!')\n",
    "        break\n",
    "\n",
    "    monster_attack = random.randint(0, 50)\n",
    "    player_health -= monster_attack\n",
    "\n",
    "    print(f'The monster attacks you for {monster_attack} damage.')\n",
    "    print(f'You have {player_health} HP remaining!')\n",
    "    \n",
    "    if player_health <= 0:\n",
    "        print('The monster consumes you!')\n",
    "        print('Game Over')\n",
    "        break\n",
    "    \n",
    "    run = input('Would you like to attack again or flee: [a/f] ')\n",
    "    \n",
    "    if run == 'f' and player_health > 0:\n",
    "        print('You managed to escape but are permanently branded a coward')\n",
    "        break"
   ]
  },
  {
   "cell_type": "code",
   "execution_count": null,
   "metadata": {},
   "outputs": [],
   "source": []
  }
 ],
 "metadata": {
  "kernelspec": {
   "display_name": "Python 3 (ipykernel)",
   "language": "python",
   "name": "python3"
  },
  "language_info": {
   "codemirror_mode": {
    "name": "ipython",
    "version": 3
   },
   "file_extension": ".py",
   "mimetype": "text/x-python",
   "name": "python",
   "nbconvert_exporter": "python",
   "pygments_lexer": "ipython3",
   "version": "3.11.3"
  }
 },
 "nbformat": 4,
 "nbformat_minor": 2
}
