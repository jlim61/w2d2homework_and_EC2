{
 "cells": [
  {
   "cell_type": "markdown",
   "metadata": {},
   "source": [
    "# Functions, Scoping, Data Collections 1 & List Comprehensions"
   ]
  },
  {
   "cell_type": "markdown",
   "metadata": {},
   "source": [
    "## Tasks Today:\n",
    "\n",
    "<i>Monday Additions (or, and ... if statements)</i>\n",
    "\n",
    "1) String Manipulation <br>\n",
    " &nbsp;&nbsp;&nbsp;&nbsp; a) strip() <br>\n",
    " &nbsp;&nbsp;&nbsp;&nbsp; b) title() <br>\n",
    "2) Working With Lists <br>\n",
    " &nbsp;&nbsp;&nbsp;&nbsp; a) min() <br>\n",
    " &nbsp;&nbsp;&nbsp;&nbsp; b) max() <br>\n",
    " &nbsp;&nbsp;&nbsp;&nbsp; c) sum() <br>\n",
    " &nbsp;&nbsp;&nbsp;&nbsp; d) sort() <br>\n",
    " &nbsp;&nbsp;&nbsp;&nbsp; e) Copying a List <br>\n",
    " &nbsp;&nbsp;&nbsp;&nbsp; f) 'in' keyword <br>\n",
    " &nbsp;&nbsp;&nbsp;&nbsp; g) 'not in' keyword <br>\n",
    " &nbsp;&nbsp;&nbsp;&nbsp; i) Checking an Empty List <br>\n",
    " &nbsp;&nbsp;&nbsp;&nbsp; j) Removing Instances with a Loop <br>\n",
    "3) List Comprehensions <br>\n",
    "4) Tuples <br>\n",
    " &nbsp;&nbsp;&nbsp;&nbsp; a) sorted() <br>\n",
    "5) Functions <br>\n",
    " &nbsp;&nbsp;&nbsp;&nbsp; a) User-Defined vs. Built-In Functions <br>\n",
    " &nbsp;&nbsp;&nbsp;&nbsp; b) Accepting Parameters <br>\n",
    " &nbsp;&nbsp;&nbsp;&nbsp; c) Default Parameters <br>\n",
    " &nbsp;&nbsp;&nbsp;&nbsp; d) Making an Argument Optional <br>\n",
    " &nbsp;&nbsp;&nbsp;&nbsp; e) Keyword Arguments <br>\n",
    " &nbsp;&nbsp;&nbsp;&nbsp; f) Returning Values <br>\n",
    " &nbsp;&nbsp;&nbsp;&nbsp; g) *args <br>\n",
    " &nbsp;&nbsp;&nbsp;&nbsp; h) Docstring <br>\n",
    " &nbsp;&nbsp;&nbsp;&nbsp; i) Using a User Function in a Loop <br>\n",
    "6) Scope"
   ]
  },
  {
   "cell_type": "markdown",
   "metadata": {},
   "source": [
    "### String Manipulation"
   ]
  },
  {
   "cell_type": "markdown",
   "metadata": {},
   "source": [
    "##### .lstrip()"
   ]
  },
  {
   "cell_type": "code",
   "execution_count": 2,
   "metadata": {},
   "outputs": [
    {
     "name": "stdout",
     "output_type": "stream",
     "text": [
      "Hello Matrix    \n",
      "    Hello Matrix    \n"
     ]
    }
   ],
   "source": [
    "# string.lstrip()\n",
    "# this stands for left strip and removes white space on the left until it finds an element\n",
    "\n",
    "greeting_string = '    Hello Matrix    '\n",
    "print(greeting_string.lstrip())\n",
    "print(greeting_string)\n",
    "\n",
    "# You cannot change a string, they are immutable. You have to save the string as a new value\n",
    "greeting_string = greeting_string.lstrip()\n",
    "\n",
    "greeting_string"
   ]
  },
  {
   "cell_type": "markdown",
   "metadata": {},
   "source": [
    "##### .rstrip()"
   ]
  },
  {
   "cell_type": "code",
   "execution_count": 3,
   "metadata": {},
   "outputs": [
    {
     "data": {
      "text/plain": [
       "'    Hello Matrix'"
      ]
     },
     "execution_count": 3,
     "metadata": {},
     "output_type": "execute_result"
    }
   ],
   "source": [
    "# string.rstrip()\n",
    "# this stands for right strip and removes white space on the right until it finds an element\n",
    "greeting_string.rstrip()"
   ]
  },
  {
   "cell_type": "markdown",
   "metadata": {},
   "source": [
    "##### .strip()"
   ]
  },
  {
   "cell_type": "code",
   "execution_count": 4,
   "metadata": {},
   "outputs": [
    {
     "data": {
      "text/plain": [
       "'Matrix'"
      ]
     },
     "execution_count": 4,
     "metadata": {},
     "output_type": "execute_result"
    }
   ],
   "source": [
    "# string.strip()\n",
    "# this removes white space on both ends\n",
    "greeting_string = '    Hello Matrix    '\n",
    "greeting_string.strip()\n",
    "\n",
    "\n",
    "# you can also set it to strip specific characters\n",
    "binary_matrix = '10101100Matrix1010001010101010'\n",
    "\n",
    "binary_matrix.strip('10')"
   ]
  },
  {
   "cell_type": "markdown",
   "metadata": {},
   "source": [
    "##### .title()"
   ]
  },
  {
   "cell_type": "code",
   "execution_count": 5,
   "metadata": {},
   "outputs": [
    {
     "data": {
      "text/plain": [
       "'Seans Workshop Firestore'"
      ]
     },
     "execution_count": 5,
     "metadata": {},
     "output_type": "execute_result"
    }
   ],
   "source": [
    "# string.title()\n",
    "# capitalizes the first character of a string and each character after a space\n",
    "\n",
    "week9_string'seans workshop firestore'.title()\n",
    "print(week9_string.title())\n",
    "upper_string = week9_string.upper()\n",
    "print(upper_string)\n",
    "upper_string.lower\n",
    "\n",
    "# only capitalizes the first character\n",
    "week9_string.capitalize()"
   ]
  },
  {
   "cell_type": "markdown",
   "metadata": {},
   "source": [
    "### String Exercise <br>\n",
    "<p>Strip all white space and capitalize every name in the list given</p>"
   ]
  },
  {
   "cell_type": "code",
   "execution_count": 23,
   "metadata": {},
   "outputs": [
    {
     "name": "stdout",
     "output_type": "stream",
     "text": [
      "['Connor', 'Max', 'Evan', 'Jordan']\n"
     ]
    }
   ],
   "source": [
    "names = ['    coNNor', 'max', ' EVan ', 'JORDAN']\n",
    "# HINT: You will need to use a for loop for iteration\n",
    "names_new = []\n",
    "for e in names:\n",
    "    names_new.append(e.strip().title())\n",
    "    \n",
    "print(names_new)"
   ]
  },
  {
   "cell_type": "markdown",
   "metadata": {},
   "source": [
    "### Working With Lists"
   ]
  },
  {
   "cell_type": "markdown",
   "metadata": {},
   "source": [
    "##### min()"
   ]
  },
  {
   "cell_type": "code",
   "execution_count": 26,
   "metadata": {},
   "outputs": [
    {
     "name": "stdout",
     "output_type": "stream",
     "text": [
      "5\n",
      "a\n"
     ]
    }
   ],
   "source": [
    "# min(list)\n",
    "# return the smallest value for whatever we are passing through\n",
    "\n",
    "\n",
    "print(min([100,5,9,44]))\n",
    "\n",
    "print(min(['z','y','a']))\n"
   ]
  },
  {
   "cell_type": "markdown",
   "metadata": {},
   "source": [
    "##### max()"
   ]
  },
  {
   "cell_type": "code",
   "execution_count": 28,
   "metadata": {},
   "outputs": [
    {
     "name": "stdout",
     "output_type": "stream",
     "text": [
      "100\n",
      "z\n",
      "a\n"
     ]
    }
   ],
   "source": [
    "# max(list)\n",
    "# return the largest value for whatever we are passing through\n",
    "\n",
    "\n",
    "print(max([100,5,9,44]))\n",
    "\n",
    "print(max(['z','y','a']))\n",
    "\n",
    "# this gives lowercase value because lowercase letters come AFTER capitals so it's considered larger\n",
    "print(max(['Z','Y','a']))"
   ]
  },
  {
   "cell_type": "markdown",
   "metadata": {},
   "source": [
    "##### sum()"
   ]
  },
  {
   "cell_type": "code",
   "execution_count": 31,
   "metadata": {},
   "outputs": [
    {
     "name": "stdout",
     "output_type": "stream",
     "text": [
      "137\n"
     ]
    },
    {
     "data": {
      "text/plain": [
       "175"
      ]
     },
     "execution_count": 31,
     "metadata": {},
     "output_type": "execute_result"
    }
   ],
   "source": [
    "# sum(list)\n",
    "# return the sume of everything we pass through\n",
    "\n",
    "num_list = [30,19,88]\n",
    "print(sum(num_list))\n",
    "\n",
    "sum([100,50,25])"
   ]
  },
  {
   "cell_type": "markdown",
   "metadata": {},
   "source": [
    "##### sorted()"
   ]
  },
  {
   "cell_type": "code",
   "execution_count": 38,
   "metadata": {},
   "outputs": [
    {
     "name": "stdout",
     "output_type": "stream",
     "text": [
      "[1, 3, 88, 100, 101]\n",
      "[100, 88, 101, 1, 3]\n",
      "['a', 'b', 'c', 'x', 'y', 'z']\n"
     ]
    }
   ],
   "source": [
    "# sorted(list)\n",
    "# gives us a sorted list. It won't affect the list we are throwing in\n",
    "# NOT A LIST METHOD WHICH MEANS IT'S NOT APPLIED TO A LIST\n",
    "\n",
    "unsorted_list = [100,88,101,1,3]\n",
    "\n",
    "print(sorted(unsorted_list))\n",
    "\n",
    "print(unsorted_list)\n",
    "\n",
    "# the return will always be a sorted list. it will change a string and make it into a list\n",
    "print(sorted('abczyx'))"
   ]
  },
  {
   "cell_type": "markdown",
   "metadata": {},
   "source": [
    "##### .sort() <br>\n",
    "<p>Difference between sort and sorted, is that sorted doesn't change original list it returns a copy, while .sort changes the original list</p>"
   ]
  },
  {
   "cell_type": "code",
   "execution_count": 40,
   "metadata": {},
   "outputs": [
    {
     "name": "stdout",
     "output_type": "stream",
     "text": [
      "[1, 3, 88, 100, 101]\n",
      "None  during sort\n",
      "[1, 3, 88, 100, 101]  after sort\n"
     ]
    }
   ],
   "source": [
    "# list.sort()\n",
    "# THIS IS A LIST METHOD, IT WILL AFFECT THE LIST\n",
    "\n",
    "print(unsorted_list)\n",
    "\n",
    "print(unsorted_list.sort(), ' during sort')\n",
    "\n",
    "print(unsorted_list, ' after sort')\n",
    "\n",
    "# use sorted when you don't want to alter original list, use .sort() when you want to alter original list\n",
    "\n"
   ]
  },
  {
   "cell_type": "markdown",
   "metadata": {},
   "source": [
    "##### Copying a List"
   ]
  },
  {
   "cell_type": "code",
   "execution_count": 46,
   "metadata": {},
   "outputs": [
    {
     "name": "stdout",
     "output_type": "stream",
     "text": [
      "['Lyla', 'Anthony', 'Tom', 'Heather', 'Milad'] \n",
      " ['lyla', 'anthony', 'tom', 'heather', 'milad']\n",
      "['Lyla', 'Anthony', 'Tom', 'Heather', 'Milad'] \n",
      " ['Lyla', 'Anthony', 'Tom', 'Heather', 'Milad']\n"
     ]
    }
   ],
   "source": [
    "# [:] copies a list, doesn't alter original\n",
    "# slice is a common way to make a copy of a list\n",
    "\n",
    "students = ['lyla', 'anthony', 'tom', 'heather', 'milad']\n",
    "students2 = students # this gives an exact copy\n",
    "students_copy = students[:]\n",
    "\n",
    "students_copy is students\n",
    "students2 is students # this gives an exact copy\n",
    "\n",
    "for i, student in enumerate(students_copy):\n",
    "    students_copy[i] = student.title()\n",
    "    \n",
    "print(students_copy, '\\n', students)\n",
    "\n",
    "\n",
    "# same as above but instead of enumerate, it's range\n",
    "for i in range(len(students2)):\n",
    "    students2[i] = students2[i].title()\n",
    "    \n",
    "print(students2, '\\n', students)"
   ]
  },
  {
   "cell_type": "markdown",
   "metadata": {},
   "source": [
    "##### 'in' keyword"
   ]
  },
  {
   "cell_type": "code",
   "execution_count": 50,
   "metadata": {},
   "outputs": [
    {
     "name": "stdout",
     "output_type": "stream",
     "text": [
      "['Lyla', 'Anthony', 'Tom', 'Heather', 'Milad', 'Mabel']\n"
     ]
    }
   ],
   "source": [
    "'Tom' in students\n",
    "\n",
    "if 'Mabel' in students:\n",
    "    print('Welcome to class Mabel')\n",
    "elif 'Mabel' not in students:\n",
    "    students.append('Mabel')\n",
    "    print(students)"
   ]
  },
  {
   "cell_type": "markdown",
   "metadata": {},
   "source": [
    "##### 'not in' keyword"
   ]
  },
  {
   "cell_type": "code",
   "execution_count": null,
   "metadata": {},
   "outputs": [],
   "source": [
    "# see above\n",
    "\n",
    "'Toby' not in students\n",
    "\n",
    "'Anthony' not in students"
   ]
  },
  {
   "cell_type": "markdown",
   "metadata": {},
   "source": [
    "##### Checking an Empty List"
   ]
  },
  {
   "cell_type": "code",
   "execution_count": 53,
   "metadata": {},
   "outputs": [
    {
     "name": "stdout",
     "output_type": "stream",
     "text": [
      "empty list falsy\n",
      "again empty list falsey\n"
     ]
    }
   ],
   "source": [
    "# if l_1: or if l_1 = []\n",
    "\n",
    "if not []:\n",
    "    print('empty list falsy')\n",
    "    \n",
    "empty_list = list()\n",
    "\n",
    "if empty_list:\n",
    "    print('empty list truthy')\n",
    "    \n",
    "empty_list = []\n",
    "\n",
    "if not empty_list:\n",
    "    print('again empty list falsey')"
   ]
  },
  {
   "cell_type": "markdown",
   "metadata": {},
   "source": [
    "##### Removing Instances with a Loop"
   ]
  },
  {
   "cell_type": "code",
   "execution_count": 59,
   "metadata": {},
   "outputs": [
    {
     "name": "stdout",
     "output_type": "stream",
     "text": [
      "['ryan', 'dylan', 'dylan', 'sean', 'alex']\n",
      "['ryan', 'dylan', 'dylan', 'sean']\n",
      "removed all alexs\n"
     ]
    }
   ],
   "source": [
    "# while, remove\n",
    "\n",
    "teachers = ['ryan', 'alex', 'dylan', 'dylan', 'sean', 'alex']\n",
    "# teachers.remove('alex')  # remove the first occurrence\n",
    "\n",
    "# set a while loop to remove all instances of an element\n",
    "while 'alex' in teachers:\n",
    "    teachers.remove('alex')\n",
    "    print(teachers)\n",
    "print(\"removed all alexs\")"
   ]
  },
  {
   "cell_type": "markdown",
   "metadata": {},
   "source": [
    "### List Exercise <br>\n",
    "<p>Remove all duplicates<br><b>Extra: Create a program that will remove any duplicates from a given list</b></p>"
   ]
  },
  {
   "cell_type": "code",
   "execution_count": 81,
   "metadata": {},
   "outputs": [
    {
     "name": "stdout",
     "output_type": "stream",
     "text": [
      "['connor', 'bob', 'evan', 'max', 2, 3, 4, 'kevin']\n"
     ]
    }
   ],
   "source": [
    "names2 = ['connor', 'connor', 'bob', 'connor', 'evan', 'max', 'evan', 2, 2, 2, 3, 3, 4, 'bob', 'kevin']\n",
    "# Hint 1: You will need an append\n",
    "# Hint 2: Using an empty list will make life easier\n",
    "\n",
    "# created a new container to hold the names for new list\n",
    "names2_new = []\n",
    "# made for loop so that it repeats over itself\n",
    "for e in names2:\n",
    "    # this line says that if e is not in new container, to take the e value and add it to the container I made\n",
    "    if e not in names2_new:\n",
    "        names2_new.append(e)\n",
    "        \n",
    "        \n",
    "# This just shows the results\n",
    "print(names2_new)\n"
   ]
  },
  {
   "cell_type": "code",
   "execution_count": 80,
   "metadata": {},
   "outputs": [
    {
     "name": "stdout",
     "output_type": "stream",
     "text": [
      "['connor', 'max', 'evan', 2, 3, 4, 'bob', 'kevin']\n"
     ]
    }
   ],
   "source": [
    "# METHOD WITHOUT MAKING NEW LIST\n",
    "names = ['connor', 'connor', 'bob', 'connor', 'evan', 'max', 'evan', 2, 2, 2, 3, 3, 4, 'bob', 'kevin']\n",
    "for e in names:\n",
    "    while names.count(e) > 1:\n",
    "        names.remove(e)\n",
    "print(names)"
   ]
  },
  {
   "cell_type": "code",
   "execution_count": null,
   "metadata": {},
   "outputs": [],
   "source": [
    "# Control how to increment through list\n",
    "\n",
    "names = ['connor', 'connor', 'bob', 'connor', 'evan', 'max', 'evan', 2, 2, 2, 3, 3, 4, 'bob', 'kevin']\n",
    "# we set our index at 0 so that it targets first element in list\n",
    "i=0\n",
    "# this statement says that whenever i (which is 0) is < length of names, it can keep running\n",
    "while i < len(names):\n",
    "#     this says that if the value of the index is greater than 1 (if there are duplicates) then it removes the element\n",
    "# so if we took the first 'connor' out, the second 'connor' would shift to index or i = 0. the loop then iterates over the\n",
    "# new i=0 which is the second connor and removes it and then bob becomes the new i=0 value, etc.\n",
    "# if the element doesn't appear more than 1 (index is not > 1) then it adds +1 to the index which shifts the loop\n",
    "# to look at the next index value\n",
    "    if names.count(names[i]) > 1:\n",
    "        names.remove(names[i])\n",
    "    else:\n",
    "        i+=1\n",
    "        \n",
    "print(names)"
   ]
  },
  {
   "cell_type": "markdown",
   "metadata": {},
   "source": [
    "### List Comprehensions <br>\n",
    "<p>Creating a quickly generated list to work with<br>*result*  = [*transform*    *iteration*         *filter*     ]</p>"
   ]
  },
  {
   "cell_type": "markdown",
   "metadata": {},
   "source": [
    "##### In a list comprehension we have a few pieces:\n",
    "1. The first is the counter/ variable - IN this the variable is x\n",
    "2. then we have a transform for the variable\n",
    "3. The finale part of a list comp is called the condition - this is optional\n",
    "\n",
    "```python\n",
    "    [variable, transform, condition]\n",
    "```"
   ]
  },
  {
   "cell_type": "code",
   "execution_count": 87,
   "metadata": {},
   "outputs": [
    {
     "name": "stdout",
     "output_type": "stream",
     "text": [
      "[0, 1, 2, 3, 4, 5, 6, 7, 8, 9]\n",
      "[0, 1, 2, 3, 4, 5, 6, 7, 8, 9]\n",
      "[0, 1, 8, 9, 64, 25, 216, 49, 512, 81] first one\n"
     ]
    },
    {
     "data": {
      "text/plain": [
       "[0, 1, 8, 9, 64, 25, 216, 49, 512, 81]"
      ]
     },
     "execution_count": 87,
     "metadata": {},
     "output_type": "execute_result"
    }
   ],
   "source": [
    "# number comprehension\n",
    "# num_list = [num for num in range(10) if num % 2 == 0]\n",
    "# this include a condition that would make it only take into account\n",
    "# even numbers but we are keeping it simple\n",
    "num_list = [num for num in range(10)]\n",
    "# num = variable\n",
    "# for num in range(10) = transform\n",
    "\n",
    "print(num_list)\n",
    "# With a regular for loop\n",
    "num_list2 = []\n",
    "for num in range(10):\n",
    "    num_list2.append(num)\n",
    "    \n",
    "print(num_list2)\n",
    "\n",
    "# IN a list comprehension we have a few pieces:\n",
    "# The first is the counter/ variable - IN this the variable is x\n",
    "# Then we have a transform for the variable \n",
    "# The finale part of a list comp is called the condition\n",
    "#[variable, transform, condition]\n",
    "\n",
    "\n",
    "\n",
    "# next thing is going to square even and cube odd numbers\n",
    "\n",
    "cubes_and_squares = []\n",
    "for num in range(10):\n",
    "    cubes_and_squares.append(num**2 if num % 2 == 1 else num**3)\n",
    "#     what this says is that it appends the square number if it is even because num/2 =1. It not, then cube the number\n",
    "print(cubes_and_squares, 'first one')\n",
    "# the below does the same as above\n",
    "\n",
    "#     if num% 2 == 1:\n",
    "#         cubes_and_squares.append(num**2)\n",
    "#     else:\n",
    "#         cubes_and_squares.append(num**3)\n",
    "\n",
    "\n",
    "[num**2 if num % 2 == 1 else num**3 for num in range(10)]"
   ]
  },
  {
   "cell_type": "code",
   "execution_count": null,
   "metadata": {},
   "outputs": [],
   "source": [
    "# Help for remembering the syntax of list comprehensions\n",
    "\n",
    "num_list2 = []\n",
    "for num in range(10):\n",
    "    if num % 2 == 0:\n",
    "        num_list2.append(num)\n",
    "\n",
    "# [whatever is in the () of append, the loop, and potentially the condition]\n",
    "[num for num in range(10) if num % 2 == 0]"
   ]
  },
  {
   "cell_type": "markdown",
   "metadata": {},
   "source": [
    "There are a few benefits to using List comprehensions. The most obvious would be that we now have shorter code to work with instead of using 3+ lines of code in the for loop variant.\n",
    "\n",
    "Another is an added benefit to memory usage. Since the list's memory is allocated first before adding elements to it, we don't have to resize the list once we add elements to it.\n",
    "\n",
    "Lastly, list comprehensions are considered the \"pythonic\" way to write code by the PEP8 standards (Python Style Guide)"
   ]
  },
  {
   "cell_type": "code",
   "execution_count": 84,
   "metadata": {},
   "outputs": [
    {
     "name": "stdout",
     "output_type": "stream",
     "text": [
      "[0, 1, 4, 9, 16, 25, 36, 49, 64, 81]\n"
     ]
    }
   ],
   "source": [
    "# square number comprehension\n",
    "\n",
    "squared_nums = [num**2 for num in range(10)]\n",
    "\n",
    "print(squared_nums)\n",
    "\n"
   ]
  },
  {
   "cell_type": "code",
   "execution_count": 93,
   "metadata": {},
   "outputs": [
    {
     "name": "stdout",
     "output_type": "stream",
     "text": [
      "['Lyla', 'Anthony', 'Tom', 'Heather', 'Milad', 'Mabel'] showing student names\n",
      "['L', 'A', 'T', 'H', 'M', 'M']\n"
     ]
    },
    {
     "data": {
      "text/plain": [
       "['M', 'M']"
      ]
     },
     "execution_count": 93,
     "metadata": {},
     "output_type": "execute_result"
    }
   ],
   "source": [
    "# string comprehension\n",
    "\n",
    "# let's say you want to grab the first character of each string\n",
    "students\n",
    "print(students, 'showing student names')\n",
    "\n",
    "students_first_letters = [student[0] for student in students]\n",
    "print(students_first_letters)\n",
    "\n",
    "# to grab first letter, you can use student[0] which targets value of 0 index.\n",
    "# then it is saying to apply this for student variable in students string\n",
    "# condition says to execute code only if the value of student[0] is 'M' or an M letter\n",
    "[student[0] for student in students if student[0] == 'M']\n",
    "\n"
   ]
  },
  {
   "cell_type": "code",
   "execution_count": null,
   "metadata": {},
   "outputs": [],
   "source": []
  },
  {
   "cell_type": "code",
   "execution_count": null,
   "metadata": {},
   "outputs": [],
   "source": []
  },
  {
   "cell_type": "markdown",
   "metadata": {},
   "source": [
    "### Tuples <br>\n",
    "<p><b>Defined as an immutable list</b></p><br>Seperated by commas using parenthesis"
   ]
  },
  {
   "cell_type": "code",
   "execution_count": 117,
   "metadata": {},
   "outputs": [
    {
     "name": "stdout",
     "output_type": "stream",
     "text": [
      "<class 'tuple'>\n",
      "<class 'tuple'>\n",
      "<class 'tuple'>\n",
      "<class 'int'> notice how the type is not a tuple\n",
      "<class 'tuple'>\n",
      "(1, 3, 4, (3, 4, 5))\n",
      "<class 'tuple'> this checks that the tuple inside tup7 is still a tuple\n"
     ]
    }
   ],
   "source": [
    "#  Tuples are on index system, immutable (like a string), and is a collection of elements\n",
    "\n",
    "my_tup = (1, 2, 'abc','foo', [2,3,4])\n",
    "\n",
    "print(type(my_tup))\n",
    "\n",
    "my_tup2 = 1,2,3,5,'foo','bar'\n",
    "\n",
    "isinstance(my_tup2, tuple)\n",
    "\n",
    "my_tup3 = tuple((1,2,3,4,6,9))\n",
    "\n",
    "print(type(my_tup3))\n",
    "\n",
    "tup4 = tuple()\n",
    "print(type(tup4))\n",
    "# tuples are immutable. you can make a tuple that's EMPTY, but it doesn't do anything. It makes it falsey\n",
    "# but because they are immutable, you can't add or take anything away so you end up just taking memory\n",
    "\n",
    "tup5 = (1)\n",
    "print(type(tup5), 'notice how the type is not a tuple')\n",
    "\n",
    "# need the trailing comma or python will think it's javascript and translate it differnetly\n",
    "tup6 = (1,)\n",
    "print(type(tup6))\n",
    "\n",
    "tup7 = 1,3,4,(3,4,5)\n",
    "print(tup7)\n",
    "print(type(tup7[-1]), 'this checks that the tuple inside tup7 is still a tuple')"
   ]
  },
  {
   "cell_type": "code",
   "execution_count": 113,
   "metadata": {},
   "outputs": [
    {
     "name": "stdout",
     "output_type": "stream",
     "text": [
      "(1, 2, 'abc', [2, 3, 4])\n",
      "(1, 3, 4, (3, 4, 5))\n"
     ]
    },
    {
     "data": {
      "text/plain": [
       "2"
      ]
     },
     "execution_count": 113,
     "metadata": {},
     "output_type": "execute_result"
    }
   ],
   "source": [
    "#  .count() <tuple>.count(<element we wnat to count>)\n",
    "#  .index() <tuple>.index(<element we wnat the index of>)\n",
    "\n",
    "print(my_tup)\n",
    "my_tup.count(2)\n",
    "\n",
    "# this will count how many 1's there are in the tuple\n",
    "(1,1,1,0,6,1).count(1)\n",
    "\n",
    "print(tup7)\n",
    "tup7.index(4)\n",
    "# this tells us what index a value of 4 is in"
   ]
  },
  {
   "cell_type": "code",
   "execution_count": 110,
   "metadata": {},
   "outputs": [],
   "source": [
    "##### sorted()"
   ]
  },
  {
   "cell_type": "code",
   "execution_count": 115,
   "metadata": {},
   "outputs": [
    {
     "name": "stdout",
     "output_type": "stream",
     "text": [
      "<class 'tuple'>\n",
      "['a', 'b', 'y', 'z']\n",
      "('a', 'b', 'y', 'z')\n"
     ]
    }
   ],
   "source": [
    "sorted((9,1,9,4,100,5))\n",
    "\n",
    "string_tuple = 'a','z','y','b'\n",
    "\n",
    "sorted_letters_list = sorted(string_tuple)\n",
    "\n",
    "print(sorted_letters_list)\n",
    "\n",
    "sorted_tuple = tuple(sorted_letters_list)\n",
    "\n",
    "print(sorted_tuple)"
   ]
  },
  {
   "cell_type": "markdown",
   "metadata": {},
   "source": [
    "##### Adding values to a Tuple"
   ]
  },
  {
   "cell_type": "code",
   "execution_count": 121,
   "metadata": {},
   "outputs": [
    {
     "data": {
      "text/plain": [
       "(1, 2, 'abc', 'foo', [2, 3, 4], False)"
      ]
     },
     "execution_count": 121,
     "metadata": {},
     "output_type": "execute_result"
    }
   ],
   "source": [
    "my_tup + (False,)\n",
    "\n",
    "my_tup"
   ]
  },
  {
   "cell_type": "code",
   "execution_count": 125,
   "metadata": {},
   "outputs": [
    {
     "name": "stdout",
     "output_type": "stream",
     "text": [
      "(1, 2, 3, 4, 5, 6)\n"
     ]
    }
   ],
   "source": [
    "new_tup = 1,2,3\n",
    "another_tup = 4,5,6\n",
    "\n",
    "# new_tup + another_tup\n",
    "\n",
    "new_tup += another_tup\n",
    "\n",
    "print(new_tup)"
   ]
  },
  {
   "cell_type": "markdown",
   "metadata": {},
   "source": [
    "## Functions"
   ]
  },
  {
   "cell_type": "markdown",
   "metadata": {},
   "source": [
    "##### User-Defined vs. Built-In Functions"
   ]
  },
  {
   "cell_type": "code",
   "execution_count": 129,
   "metadata": {},
   "outputs": [
    {
     "ename": "SyntaxError",
     "evalue": "invalid syntax (3281913483.py, line 8)",
     "output_type": "error",
     "traceback": [
      "\u001b[1;36m  Cell \u001b[1;32mIn[129], line 8\u001b[1;36m\u001b[0m\n\u001b[1;33m    return hello world\u001b[0m\n\u001b[1;37m                 ^\u001b[0m\n\u001b[1;31mSyntaxError\u001b[0m\u001b[1;31m:\u001b[0m invalid syntax\n"
     ]
    }
   ],
   "source": [
    "# max()\n",
    "# sum()\n",
    "# print()\n",
    "# range()\n",
    "# help()\n",
    "\n",
    "def greeting():\n",
    "    return 'hello world'\n",
    "    \n",
    "print(greeting())\n",
    "greeting()\n",
    "\n"
   ]
  },
  {
   "cell_type": "markdown",
   "metadata": {},
   "source": [
    "##### Accepting Parameters"
   ]
  },
  {
   "cell_type": "code",
   "execution_count": 135,
   "metadata": {},
   "outputs": [
    {
     "name": "stdout",
     "output_type": "stream",
     "text": [
      "test\n",
      "Hello Sean Currie\n"
     ]
    }
   ],
   "source": [
    "def customer_greeting(first_name, last_name):\n",
    "    print('test')\n",
    "    return f'Hello {first_name.title()} {last_name.title()}'\n",
    "\n",
    "print(customer_greeting('sean', 'currie'))"
   ]
  },
  {
   "cell_type": "markdown",
   "metadata": {},
   "source": [
    "##### Default Parameters"
   ]
  },
  {
   "cell_type": "code",
   "execution_count": 143,
   "metadata": {},
   "outputs": [
    {
     "name": "stdout",
     "output_type": "stream",
     "text": [
      "Welcome to CT your instructor is dylan smith\n"
     ]
    },
    {
     "data": {
      "text/plain": [
       "'Welcome to CT your instructor is dylan smith'"
      ]
     },
     "execution_count": 143,
     "metadata": {},
     "output_type": "execute_result"
    }
   ],
   "source": [
    "def introduce_instructor(last_name, first_name='dylan'):\n",
    "    return f'Welcome to CT your instructor is {first_name} {last_name}'\n",
    "\n",
    "introduce_instructor('smith')\n",
    "print(introduce_instructor('smith'))\n",
    "# if you use a default, you have to put it after a parameter without a default value\n",
    "\n",
    "\n",
    "# this gives you two default values so it can say the same thing every time\n",
    "def introduce_instructor(first_name='dylan', last_name='smith'):\n",
    "    return f'Welcome to CT your instructor is {first_name} {last_name}'\n",
    "\n",
    "introduce_instructor()"
   ]
  },
  {
   "cell_type": "markdown",
   "metadata": {},
   "source": [
    "##### Making an Argument Optional"
   ]
  },
  {
   "cell_type": "code",
   "execution_count": 144,
   "metadata": {},
   "outputs": [
    {
     "data": {
      "text/plain": [
       "'Greetings dylan  smith'"
      ]
     },
     "execution_count": 144,
     "metadata": {},
     "output_type": "execute_result"
    }
   ],
   "source": [
    "# the empty string in middle name makes it optional\n",
    "def greeting_full_name(first_name, last_name, middle_name=''):\n",
    "    return f'Greetings {first_name} {middle_name} {last_name}'\n",
    "\n",
    "greeting_full_name('dylan','smith')"
   ]
  },
  {
   "cell_type": "code",
   "execution_count": 150,
   "metadata": {},
   "outputs": [
    {
     "data": {
      "text/plain": [
       "'Greetings dylan smith'"
      ]
     },
     "execution_count": 150,
     "metadata": {},
     "output_type": "execute_result"
    }
   ],
   "source": [
    "# this removes the space if there is no middle name\n",
    "def greeting_full_name(first_name, last_name, middle_name=''):\n",
    "    return f'Greetings {first_name}{f\" {middle_name}\" if middle_name else \"\"} {last_name}'\n",
    "\n",
    "greeting_full_name('dylan','smith')"
   ]
  },
  {
   "cell_type": "markdown",
   "metadata": {},
   "source": [
    "##### Keyword Arguments"
   ]
  },
  {
   "cell_type": "code",
   "execution_count": 151,
   "metadata": {},
   "outputs": [
    {
     "data": {
      "text/plain": [
       "'Greetings dylan smith'"
      ]
     },
     "execution_count": 151,
     "metadata": {},
     "output_type": "execute_result"
    }
   ],
   "source": [
    "# last_name='Max', first_name='Smith' in the function call\n",
    "\n",
    "# see above\n",
    "\n",
    "# keywords are last_name and first_name to pass arguments in whatever order we choose\n",
    "greeting_full_name(last_name='smith', first_name='dylan')"
   ]
  },
  {
   "cell_type": "markdown",
   "metadata": {},
   "source": [
    "# Creating a start, stop, step function"
   ]
  },
  {
   "cell_type": "code",
   "execution_count": 157,
   "metadata": {},
   "outputs": [
    {
     "name": "stdout",
     "output_type": "stream",
     "text": [
      "[0, 1, 2, 3, 4, 5, 6, 7, 8, 9, 10, 11, 12, 13, 14, 15, 16, 17, 18, 19]\n",
      "[1, 3, 5, 7, 9, 11, 13, 15, 17, 19]\n"
     ]
    }
   ],
   "source": [
    "# default range() = range(start,stop,step)\n",
    "# creating custom range\n",
    "\n",
    "def my_range(stop, start=0,step=1):\n",
    "    range_nums = []\n",
    "    while start < stop:\n",
    "        range_nums.append(start)\n",
    "        start += step\n",
    "    return range_nums\n",
    "\n",
    "print(my_range(20))\n",
    "\n",
    "# this says to stop at 20, start at 1, and go every 2\n",
    "print(my_range(20,1,2))"
   ]
  },
  {
   "cell_type": "code",
   "execution_count": 158,
   "metadata": {},
   "outputs": [
    {
     "name": "stdout",
     "output_type": "stream",
     "text": [
      "[1, 3, 5, 7, 9, 11, 13, 15, 17, 19]\n"
     ]
    }
   ],
   "source": [
    "def range_gold(stop,start=0,step=1):\n",
    "    return [num for num in range(start,stop,step)]\n",
    "\n",
    "print(my_range(30))"
   ]
  },
  {
   "cell_type": "markdown",
   "metadata": {},
   "source": [
    "##### Returning Values"
   ]
  },
  {
   "cell_type": "code",
   "execution_count": 162,
   "metadata": {},
   "outputs": [
    {
     "name": "stdout",
     "output_type": "stream",
     "text": [
      "[0, 1, 2, 3, 4, 5, 6, 7, 8, 9, 10, 11, 12, 13, 14, 15, 16, 17, 18, 19]\n",
      "None  function call\n"
     ]
    }
   ],
   "source": [
    "def my_range2(stop, start=0,step=1):\n",
    "    range_nums = []\n",
    "    current = start\n",
    "    while current < stop:\n",
    "        range_nums.append(current)\n",
    "        current += step\n",
    "#             start = start + step\n",
    "    print(range_nums)\n",
    "    \n",
    "print(my_range2(20), ' function call')"
   ]
  },
  {
   "cell_type": "markdown",
   "metadata": {},
   "source": [
    "##### *args"
   ]
  },
  {
   "cell_type": "code",
   "execution_count": 164,
   "metadata": {},
   "outputs": [
    {
     "name": "stdout",
     "output_type": "stream",
     "text": [
      "sean\n",
      "('tesla', 'pool master', 'blue eyes')\n"
     ]
    }
   ],
   "source": [
    "# function to take any number of parameters / optional arguments\n",
    "\n",
    "# will take in all past arguments and put them in a tuple\n",
    "# it could be anything though. like *birds instead of *args\n",
    "def display_info(name, *args):\n",
    "    print(name)\n",
    "    if args:\n",
    "        print(args)\n",
    "    \n",
    "display_info('sean','tesla','pool master','blue eyes')"
   ]
  },
  {
   "cell_type": "code",
   "execution_count": 166,
   "metadata": {},
   "outputs": [
    {
     "name": "stdout",
     "output_type": "stream",
     "text": [
      "sean\n",
      "tesla\n",
      "pool master\n",
      "blue eyes\n"
     ]
    }
   ],
   "source": [
    "def display_info(name, *args):\n",
    "    print(name)\n",
    "    if args:\n",
    "        for arg in args:\n",
    "            print(arg)\n",
    "            \n",
    "display_info('sean','tesla','pool master','blue eyes')"
   ]
  },
  {
   "cell_type": "code",
   "execution_count": null,
   "metadata": {},
   "outputs": [],
   "source": [
    "def display_info(name, *args):\n",
    "    '''\n",
    "    display_info(name:string, any[])\n",
    "    print name\n",
    "    iterate through args and display\n",
    "    \n",
    "    '''\n",
    "    print(name)\n",
    "    if args:\n",
    "        for arg in args:\n",
    "            print(arg)\n",
    "            \n",
    "display_info('sean','tesla','pool master','blue eyes')"
   ]
  },
  {
   "cell_type": "markdown",
   "metadata": {},
   "source": [
    "##### Docstring"
   ]
  },
  {
   "cell_type": "code",
   "execution_count": 171,
   "metadata": {},
   "outputs": [
    {
     "name": "stdout",
     "output_type": "stream",
     "text": [
      "Help on built-in function sum in module builtins:\n",
      "\n",
      "sum(iterable, /, start=0)\n",
      "    Return the sum of a 'start' value (default: 0) plus an iterable of numbers\n",
      "    \n",
      "    When the iterable is empty, return the start value.\n",
      "    This function is intended specifically for use with numeric values and may\n",
      "    reject non-numeric types.\n",
      "\n",
      "Help on function display_info in module __main__:\n",
      "\n",
      "display_info(name, *args)\n",
      "\n"
     ]
    }
   ],
   "source": [
    "help(sum)\n",
    "help(display_info)"
   ]
  },
  {
   "cell_type": "markdown",
   "metadata": {},
   "source": [
    "##### Using a User Function in a Loop"
   ]
  },
  {
   "cell_type": "code",
   "execution_count": 1,
   "metadata": {},
   "outputs": [
    {
     "name": "stdout",
     "output_type": "stream",
     "text": [
      "Are you ready to quit??quit\n",
      "What do you want to do?quit\n",
      "quit\n",
      "Ready Yet?quit\n"
     ]
    }
   ],
   "source": [
    "def printInput(answer):\n",
    "    print(answer)\n",
    "\n",
    "response = input('Are you ready to quit??')\n",
    "\n",
    "while True:\n",
    "    ask = input('What do you want to do?')\n",
    "    \n",
    "    printInput(ask)\n",
    "    \n",
    "    response = input('Ready Yet?')\n",
    "    if response.lower() == 'quit':\n",
    "        break\n"
   ]
  },
  {
   "cell_type": "markdown",
   "metadata": {},
   "source": [
    "## Function Exercise <br>\n",
    "<p>Write a function that loops through a list of first_names and a list of last_names, combines the two and return a list of full_names</p>"
   ]
  },
  {
   "cell_type": "code",
   "execution_count": 191,
   "metadata": {},
   "outputs": [
    {
     "name": "stdout",
     "output_type": "stream",
     "text": [
      "John Smith\n",
      "Evan Smith\n",
      "Jordan Williams\n",
      "Max Bell\n"
     ]
    }
   ],
   "source": [
    "first_name = ['John', 'Evan', 'Jordan', 'Max']\n",
    "last_name = ['Smith', 'Smith', 'Williams', 'Bell']\n",
    "\n",
    "# Output: ['John Smith', 'Evan Smith', 'Jordan Williams', 'Max Bell']\n",
    "\n",
    "# first_name + last_name\n",
    "# first_name += last_name\n",
    "def names(first_name, last_name):\n",
    "    for name in range(len(first_name)):\n",
    "        print(first_name[name], last_name[name])\n",
    "        \n",
    "names(first_name, last_name)"
   ]
  },
  {
   "cell_type": "code",
   "execution_count": 194,
   "metadata": {},
   "outputs": [
    {
     "name": "stdout",
     "output_type": "stream",
     "text": [
      "['John Smith', 'Evan Smith', 'Jordan Williams', 'Max Bell']\n"
     ]
    },
    {
     "data": {
      "text/plain": [
       "['John Smith', 'Evan Smith', 'Jordan Williams', 'Max Bell']"
      ]
     },
     "execution_count": 194,
     "metadata": {},
     "output_type": "execute_result"
    }
   ],
   "source": [
    "first_name = ['John', 'Evan', 'Jordan', 'Max']\n",
    "last_name = ['Smith', 'Smith', 'Williams', 'Bell']\n",
    "\n",
    "# Output: ['John Smith', 'Evan Smith', 'Jordan Williams', 'Max Bell']\n",
    "\n",
    "list(zip(first_name, last_name))\n",
    "\n",
    "def zip_names(first_names, last_names):\n",
    "    return [f'{first_name} {last_name}' for first_name, last_name in zip(first_name, last_name)]\n",
    "\n",
    "def zip_names2(first_names, last_names):\n",
    "    return [f'{e} {last_names[i]}' for i,e in enumerate (first_names)]\n",
    "            \n",
    "print(zip_names(first_name, last_name))\n",
    "zip_names2(first_name, last_name)"
   ]
  },
  {
   "cell_type": "markdown",
   "metadata": {},
   "source": [
    "## Scope <br>\n",
    "<p>Scope refers to the ability to access variables, different types of scope include:<br>a) Global<br>b) Function (local)<br>c) Class (local)</p>"
   ]
  },
  {
   "cell_type": "code",
   "execution_count": null,
   "metadata": {},
   "outputs": [],
   "source": []
  },
  {
   "cell_type": "markdown",
   "metadata": {},
   "source": [
    "# Exercises"
   ]
  },
  {
   "cell_type": "markdown",
   "metadata": {},
   "source": [
    "## Exercise 1 <br>\n",
    "<p>Given a list as a parameter,write a function that returns a list of numbers that are less than ten</b></i></p><br>\n",
    "<p> For example: Say your input parameter to the function is [1,11,14,5,8,9]...Your output should [1,5,8,9]</p>"
   ]
  },
  {
   "cell_type": "code",
   "execution_count": 2,
   "metadata": {},
   "outputs": [
    {
     "name": "stdout",
     "output_type": "stream",
     "text": [
      "[1, 5, 8, 9]\n"
     ]
    }
   ],
   "source": [
    "# Use the following list - [1,11,14,5,8,9]\n",
    "\n",
    "l_1 = [1,11,14,5,8,9]\n",
    "# I am setting an empty list to contain the numbers below 10\n",
    "less_ten_list = []\n",
    "# defining the function\n",
    "def num_below_ten(alist):\n",
    "# this is my for loop so that the function iterates through the full list\n",
    "    for num in range(len(alist)):\n",
    "        if alist[num] < 10: # This is saying that if the value  at an index in alist is < 10, then it is added to my new list\n",
    "            less_ten_list.append(alist[num])\n",
    "    return less_ten_list # This returns the list with numbers less than 10 like the prompt asks\n",
    "             \n",
    "print(num_below_ten(l_1))"
   ]
  },
  {
   "cell_type": "markdown",
   "metadata": {},
   "source": [
    "## Exercise 2 <br>\n",
    "<p>Write a function that takes in two lists and returns the two lists merged together and sorted<br>\n",
    "<b><i>Hint: You can use the .sort() method</i></b></p>"
   ]
  },
  {
   "cell_type": "code",
   "execution_count": 4,
   "metadata": {},
   "outputs": [
    {
     "name": "stdout",
     "output_type": "stream",
     "text": [
      "[1, 2, 3, 3, 4, 4, 5, 5, 6, 6, 7, 8, 10]\n"
     ]
    }
   ],
   "source": [
    "l_1 = [1,2,3,4,5,6]\n",
    "l_2 = [3,4,5,6,7,8,10]\n",
    "#setting my empty list for when I merge both lists\n",
    "merge_list = []\n",
    "#defining my function with two parameters\n",
    "def merge_and_sort(list1, list2):\n",
    "    merge_list = list1 + list2 # this says that merge_list becomes the sum of list1 and list2\n",
    "    merge_list.sort() # This sorts the list\n",
    "    return merge_list # this returns the merged sorted list like the prompt asks\n",
    "        \n",
    "        \n",
    "print(merge_and_sort(l_1,l_2))\n"
   ]
  },
  {
   "cell_type": "markdown",
   "metadata": {},
   "source": [
    "Monster_Battler_EC_Part_2"
   ]
  },
  {
   "cell_type": "markdown",
   "metadata": {},
   "source": [
    "Exercise 1"
   ]
  },
  {
   "cell_type": "code",
   "execution_count": 1,
   "metadata": {},
   "outputs": [
    {
     "name": "stdout",
     "output_type": "stream",
     "text": [
      "[1, 5, 8, 9]\n"
     ]
    }
   ],
   "source": [
    "# In your game, the player encounters a list of monsters represented by their levels.\n",
    "# The player can only fight monsters whose levels are less than ten. Write a function that takes a list of monster\n",
    "# levels and uses list comprehension to  return a list of levels that are less than ten.\n",
    "\n",
    "# For example: If the function takes [1,11,14,5,8,9] as input (representing the levels of the monsters), the function\n",
    "# should return [1,5,8,9] as these are the monsters the player can fight.\n",
    "\n",
    "\n",
    "# Use the following list - [1,11,14,5,8,9]\n",
    "\n",
    "monster_levels = [1,11,14,5,8,9]\n",
    "\n",
    "acceptable_monsters = []\n",
    "\n",
    "# defining my function\n",
    "def mon_less_ten(monsterlevel):\n",
    "    # list comprehension is: [variable, transform, conditions]\n",
    "\n",
    "#     writing it out in traditional loop so I can write out in list comprehension\n",
    "    \n",
    "#     for level in monsterlevel:\n",
    "#         if level < 10:\n",
    "#             acceptable_monsters.append(level)\n",
    "    \n",
    "#     list comprehension syntax from Dylan\n",
    "#     [from append (), for loop, conditions]\n",
    "    \n",
    "        return [level for level in monsterlevel if level < 10]\n",
    "\n",
    "print(mon_less_ten(monster_levels))"
   ]
  },
  {
   "cell_type": "markdown",
   "metadata": {},
   "source": [
    "Exercise 2"
   ]
  },
  {
   "cell_type": "code",
   "execution_count": 5,
   "metadata": {},
   "outputs": [
    {
     "name": "stdout",
     "output_type": "stream",
     "text": [
      "Your inventory was full but you manage to clean it out. Your current inventory is: \n",
      " [10, 8, 7, 6, 6, 5, 5, 4]\n",
      "None\n"
     ]
    }
   ],
   "source": [
    "# The player has two lists of weapons, each with different levels of power. The player wants to merge the two lists and\n",
    "# sort them in order to better organize their inventory. However, the player also has limited space in their inventory and\n",
    "# can only keep a certain number of weapons. Write a function that takes in two lists of weapon power levels, a maximum\n",
    "# inventory size, and returns a single list with the top N weapon levels, sorted in descending order of power, utilizing\n",
    "# slicing techniques.\n",
    "# For example, if the function takes the lists [1, 2, 3, 4, 5, 6] and [3, 4, 5, 6, 7, 8, 10], and the maximum inventory\n",
    "# size is 8, it should return [10, 8, 7, 6, 6, 5, 5, 4].\n",
    "# Use the following lists and maximum inventory size:\n",
    "\n",
    "l_1 = [1,2,3,4,5,6]\n",
    "l_2 = [3,4,5,6,7,8,10]\n",
    "max_inventory_size = 8\n",
    "# setting an empty list to add the two lists two\n",
    "full_inventory = []\n",
    "# defining function with 3 parameters\n",
    "def inventory_management(list1, list2,inventory_size):\n",
    "# setting full_inventory as the merged list of list1 and list2\n",
    "    full_inventory = list1 + list2\n",
    "# sorting the full_inventory in reverse order (big to small) because the sort function naturally sorts them from\n",
    "# small to big\n",
    "    full_inventory.sort(reverse=True)\n",
    "# setting my for loop so that it can iterate over full_inventory based on len\n",
    "#     for item in full_inventory:\n",
    "#         if len(full_inventory) > inventory_size: #this says that if the len of full inventory is greater than \n",
    "            #max inventory, then execute the following code\n",
    "#             destroy_item = full_inventory.pop(-1)#this removes the element at the end of the list leaving only the largest numbers\n",
    "    current_inventory = full_inventory[:inventory_size]\n",
    "#     forgot slice notation was a requirement, but I am making the current inventory set to keep everything but exclude past 8.\n",
    "    print(f'Your inventory was full but you manage to clean it out. Your current inventory is: \\n {current_inventory}')\n",
    "\n",
    "print(inventory_management(l_1, l_2, max_inventory_size))"
   ]
  },
  {
   "cell_type": "code",
   "execution_count": null,
   "metadata": {},
   "outputs": [],
   "source": []
  }
 ],
 "metadata": {
  "kernelspec": {
   "display_name": "Python 3 (ipykernel)",
   "language": "python",
   "name": "python3"
  },
  "language_info": {
   "codemirror_mode": {
    "name": "ipython",
    "version": 3
   },
   "file_extension": ".py",
   "mimetype": "text/x-python",
   "name": "python",
   "nbconvert_exporter": "python",
   "pygments_lexer": "ipython3",
   "version": "3.11.3"
  }
 },
 "nbformat": 4,
 "nbformat_minor": 2
}
